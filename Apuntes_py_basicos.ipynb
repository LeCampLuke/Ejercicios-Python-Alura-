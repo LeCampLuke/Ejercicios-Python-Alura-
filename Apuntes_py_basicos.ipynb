{
  "nbformat": 4,
  "nbformat_minor": 0,
  "metadata": {
    "colab": {
      "provenance": [],
      "authorship_tag": "ABX9TyOOyia3WFifmyvdFAxqBy0/",
      "include_colab_link": true
    },
    "kernelspec": {
      "name": "python3",
      "display_name": "Python 3"
    },
    "language_info": {
      "name": "python"
    }
  },
  "cells": [
    {
      "cell_type": "markdown",
      "metadata": {
        "id": "view-in-github",
        "colab_type": "text"
      },
      "source": [
        "<a href=\"https://colab.research.google.com/github/LeCampLuke/Ejercicios-Python-Alura-/blob/main/Apuntes_py_basicos.ipynb\" target=\"_parent\"><img src=\"https://colab.research.google.com/assets/colab-badge.svg\" alt=\"Open In Colab\"/></a>"
      ]
    },
    {
      "cell_type": "markdown",
      "source": [
        "Comentarios de una línea:"
      ],
      "metadata": {
        "id": "X6Z5SSX2uBsZ"
      }
    },
    {
      "cell_type": "code",
      "execution_count": null,
      "metadata": {
        "colab": {
          "base_uri": "https://localhost:8080/"
        },
        "id": "qyFj5He1tube",
        "outputId": "d9e9f34b-107f-46d7-83fe-f3656dae4992"
      },
      "outputs": [
        {
          "output_type": "stream",
          "name": "stdout",
          "text": [
            "10\n"
          ]
        }
      ],
      "source": [
        "# Este es un comentario de una línea\n",
        "print(10) # Podemos colocar otro comentario en una línea después de un código"
      ]
    },
    {
      "cell_type": "markdown",
      "source": [
        "Comentarios de varias líneas:\n",
        "\n"
      ],
      "metadata": {
        "id": "Kxh_j6kXt5MH"
      }
    },
    {
      "cell_type": "code",
      "source": [
        "'''\n",
        "Este es un comentario\n",
        "de varias líneas.\n",
        "'''"
      ],
      "metadata": {
        "colab": {
          "base_uri": "https://localhost:8080/",
          "height": 36
        },
        "id": "HMfHE2xgt5t_",
        "outputId": "317b2291-8128-4baa-e178-f1be17b6855d"
      },
      "execution_count": null,
      "outputs": [
        {
          "output_type": "execute_result",
          "data": {
            "text/plain": [
              "'\\nEste es un comentario\\nde varias líneas.\\n'"
            ],
            "application/vnd.google.colaboratory.intrinsic+json": {
              "type": "string"
            }
          },
          "metadata": {},
          "execution_count": 4
        }
      ]
    },
    {
      "cell_type": "markdown",
      "source": [
        "Encabezados:\n",
        "\n"
      ],
      "metadata": {
        "id": "CcpTC76uujcK"
      }
    },
    {
      "cell_type": "code",
      "source": [
        "# Encabezado de nivel 1\n",
        "## Encabezado de nivel 2\n",
        "### Encabezado de nivel 3"
      ],
      "metadata": {
        "id": "Sn03UJS1uj1J"
      },
      "execution_count": null,
      "outputs": []
    },
    {
      "cell_type": "markdown",
      "source": [
        "Negritas e itálicas:\n",
        "\n"
      ],
      "metadata": {
        "id": "IHBMDk3DvH-9"
      }
    },
    {
      "cell_type": "code",
      "source": [
        "**Texto en negritas**"
      ],
      "metadata": {
        "id": "6KICrBcBwvYN"
      },
      "execution_count": null,
      "outputs": []
    },
    {
      "cell_type": "code",
      "source": [
        "*Texto en cursiva*"
      ],
      "metadata": {
        "id": "tjOdb0WWwvs9"
      },
      "execution_count": null,
      "outputs": []
    },
    {
      "cell_type": "code",
      "source": [
        "***Texto en negritas y cursiva***"
      ],
      "metadata": {
        "id": "NMzJNlkAwwAV"
      },
      "execution_count": null,
      "outputs": []
    },
    {
      "cell_type": "markdown",
      "source": [
        "Listas:\n",
        "\n"
      ],
      "metadata": {
        "id": "FfvcJ-33w7FH"
      }
    },
    {
      "cell_type": "code",
      "source": [
        "* Elemento 1\n",
        "* Elemento 2\n",
        "* Elemento 3"
      ],
      "metadata": {
        "id": "s7RxxAvsw8Fm"
      },
      "execution_count": null,
      "outputs": []
    },
    {
      "cell_type": "code",
      "source": [
        "1. Elemento 1\n",
        "2. Elemento 2\n",
        "3. Elemento 3"
      ],
      "metadata": {
        "id": "yzb6LoPlxNX2"
      },
      "execution_count": null,
      "outputs": []
    },
    {
      "cell_type": "markdown",
      "source": [
        "Enlaces:\n",
        "\n"
      ],
      "metadata": {
        "id": "5y37jYzDxDiu"
      }
    },
    {
      "cell_type": "code",
      "source": [
        "[Página de Alura](https://www.aluracursos.com/)"
      ],
      "metadata": {
        "id": "7gTw8oSlxSBm"
      },
      "execution_count": null,
      "outputs": []
    },
    {
      "cell_type": "markdown",
      "source": [
        "Practicando Markdown.\n",
        "\n",
        "# Practicando el comentario de una linea\n",
        "\n",
        "# Encabezado 1\n",
        "## Encabezado 2\n",
        "### Encabezado 3\n",
        "\n",
        "**Texto en negritas**\n",
        "\n",
        "*Texto en cursiva*\n",
        "\n",
        "***Texto en negritas y cursiva***\n",
        "\n",
        "* Elemento 1\n",
        "* Elemento 2\n",
        "* Elemento 3\n",
        "\n",
        "1. Elemento 1\n",
        "2. Elemento 2\n",
        "3. Elemento 3\n",
        "\n",
        "[Página de Alura](https://www.aluracursos.com/)\n",
        "\n",
        "\n"
      ],
      "metadata": {
        "id": "h4_JXDiCyMdo"
      }
    },
    {
      "cell_type": "markdown",
      "source": [
        "Durante las clases, aprendimos a sumar, restar, multiplicar y dividir variables numéricas en Python.Pero también existen otros cálculos matemáticos que se pueden realizar mediante operadores aritméticos, como la exponenciación, el módulo y la división entera."
      ],
      "metadata": {
        "id": "Mu5kR7RR97Xb"
      }
    },
    {
      "cell_type": "markdown",
      "source": [
        "Exponenciación (**)\n",
        "\n"
      ],
      "metadata": {
        "id": "Ev7yCj84-S_l"
      }
    },
    {
      "cell_type": "code",
      "source": [
        "2**3"
      ],
      "metadata": {
        "colab": {
          "base_uri": "https://localhost:8080/"
        },
        "id": "nlwODjm--VLc",
        "outputId": "9af36558-a9ee-41fd-9cbb-419df0bf0f43"
      },
      "execution_count": null,
      "outputs": [
        {
          "output_type": "execute_result",
          "data": {
            "text/plain": [
              "8"
            ]
          },
          "metadata": {},
          "execution_count": 1
        }
      ]
    },
    {
      "cell_type": "markdown",
      "source": [
        "El mismo ejemplo se puede hacer con variables:"
      ],
      "metadata": {
        "id": "AnIXHZzo-qs-"
      }
    },
    {
      "cell_type": "code",
      "source": [
        "operador = 2\n",
        "potencia = 3\n",
        "operador ** potencia"
      ],
      "metadata": {
        "colab": {
          "base_uri": "https://localhost:8080/"
        },
        "id": "zWtdGsHn-duf",
        "outputId": "dd3cc439-193a-4891-c377-9274d4f62513"
      },
      "execution_count": null,
      "outputs": [
        {
          "output_type": "execute_result",
          "data": {
            "text/plain": [
              "8"
            ]
          },
          "metadata": {},
          "execution_count": 2
        }
      ]
    },
    {
      "cell_type": "markdown",
      "source": [
        "Módulo (%)"
      ],
      "metadata": {
        "id": "eXhMEKBq-1Aa"
      }
    },
    {
      "cell_type": "code",
      "source": [
        "7%3"
      ],
      "metadata": {
        "colab": {
          "base_uri": "https://localhost:8080/"
        },
        "id": "WIVEMurq-s17",
        "outputId": "490f0c99-4001-4e3c-9432-be402aea18b8"
      },
      "execution_count": null,
      "outputs": [
        {
          "output_type": "execute_result",
          "data": {
            "text/plain": [
              "1"
            ]
          },
          "metadata": {},
          "execution_count": 5
        }
      ]
    },
    {
      "cell_type": "markdown",
      "source": [
        "O con variables:"
      ],
      "metadata": {
        "id": "3Zr4_1A6_L-_"
      }
    },
    {
      "cell_type": "code",
      "source": [
        "dividendo = 7\n",
        "divisor = 3\n",
        "dividendo % divisor"
      ],
      "metadata": {
        "colab": {
          "base_uri": "https://localhost:8080/"
        },
        "id": "w07_0Cao_Dm4",
        "outputId": "0f39d6fd-8053-4b22-f554-4284b7628328"
      },
      "execution_count": null,
      "outputs": [
        {
          "output_type": "execute_result",
          "data": {
            "text/plain": [
              "1"
            ]
          },
          "metadata": {},
          "execution_count": 7
        }
      ]
    },
    {
      "cell_type": "markdown",
      "source": [
        "División entera (//)"
      ],
      "metadata": {
        "id": "cYEA22kpAH7n"
      }
    },
    {
      "cell_type": "code",
      "source": [
        "7 // 3"
      ],
      "metadata": {
        "colab": {
          "base_uri": "https://localhost:8080/"
        },
        "id": "wIsy_8cT_YWb",
        "outputId": "7c66dd25-556d-4b6d-b64d-6fc1b8a88831"
      },
      "execution_count": null,
      "outputs": [
        {
          "output_type": "execute_result",
          "data": {
            "text/plain": [
              "2"
            ]
          },
          "metadata": {},
          "execution_count": 8
        }
      ]
    },
    {
      "cell_type": "markdown",
      "source": [
        "El mismo ejemplo se puede hacer con variables:"
      ],
      "metadata": {
        "id": "-eAps0zVAtaM"
      }
    },
    {
      "cell_type": "code",
      "source": [
        "numerador = 7\n",
        "denominador = 3\n",
        "numerador // denominador"
      ],
      "metadata": {
        "colab": {
          "base_uri": "https://localhost:8080/"
        },
        "id": "byp3gem1At2c",
        "outputId": "0128118e-f521-4fbe-de7d-5aff169a3f38"
      },
      "execution_count": null,
      "outputs": [
        {
          "output_type": "execute_result",
          "data": {
            "text/plain": [
              "2"
            ]
          },
          "metadata": {},
          "execution_count": 9
        }
      ]
    },
    {
      "cell_type": "markdown",
      "source": [
        "Podemos visualizar el resultado de variables dentro de cadenas de texto, así como imprimir el texto final con un print. Durante la lección, aprendimos a utilizar la f-string (formateo de cadena), en la que colocamos una f antes de crear la cadena y las variables se colocan entre llaves {}. Ejemplo:"
      ],
      "metadata": {
        "id": "3OZntaz_utE8"
      }
    },
    {
      "cell_type": "code",
      "source": [
        "nombre = 'Ana Maria'\n",
        "edad = 17\n",
        "print(f\"El nombre de la alumna es {nombre} y su edad es {edad} años.\")"
      ],
      "metadata": {
        "id": "hNjEuIasA5mP",
        "colab": {
          "base_uri": "https://localhost:8080/"
        },
        "outputId": "b071c183-fa7b-44d8-c098-c70c0083b961"
      },
      "execution_count": 1,
      "outputs": [
        {
          "output_type": "stream",
          "name": "stdout",
          "text": [
            "El nombre de la alumna es Ana Maria y su edad es 17 años.\n"
          ]
        }
      ]
    },
    {
      "cell_type": "markdown",
      "source": [
        "Pero existen otros métodos de formateo, como el uso del operador de formateo de cadena o la función .format().\n",
        "\n",
        "Operador de Formateo:\n",
        "\n",
        "Este operador de formateo permite la inserción de variables en puntos específicos en la cadena de texto utilizando el operador %. Este operador funciona como un marcador, indicando dónde se expondrá el valor de la variable en la cadena.\n",
        "\n",
        "El % debe ir acompañado de una palabra clave para cada tipo de variable que se desee agregar. De acuerdo con la tabla siguiente:"
      ],
      "metadata": {
        "id": "-dbrkfYIvVZP"
      }
    },
    {
      "cell_type": "markdown",
      "source": [
        "Tipo de Variable\tPalabra Clave\n",
        "Cadena de texto\t%s\n",
        "Entero\t%d\n",
        "Punto flotante\t%f\n",
        "Caractér\t%c"
      ],
      "metadata": {
        "id": "9aXrN80lvzzg"
      }
    },
    {
      "cell_type": "code",
      "source": [
        "nombre_alumno = 'Lucas Lequepi'\n",
        "print('Nombre del alumno: %s' %(nombre_alumno))"
      ],
      "metadata": {
        "colab": {
          "base_uri": "https://localhost:8080/"
        },
        "id": "lyGPEKqgvDrX",
        "outputId": "019c1b4b-d8b5-4ece-f3d8-d7dbc03f5ddc"
      },
      "execution_count": 3,
      "outputs": [
        {
          "output_type": "stream",
          "name": "stdout",
          "text": [
            "Nombre del alumno: Lucas Lequepi\n"
          ]
        }
      ]
    },
    {
      "cell_type": "markdown",
      "source": [
        "Si tienes más de una variable, debes ordenarlas según su aparición en el texto y separarlas por comas. Por ejemplo:"
      ],
      "metadata": {
        "id": "RBjpwS7x4IFL"
      }
    },
    {
      "cell_type": "code",
      "source": [
        "nombre_alumno = 'Lucas Lequepi'\n",
        "edad_alumno = 34\n",
        "media_alumno = 9.95\n",
        "print('Nombre del alumno es %s, tiene %d años y su media es de %f.' %(nombre_alumno, edad_alumno, media_alumno))"
      ],
      "metadata": {
        "colab": {
          "base_uri": "https://localhost:8080/"
        },
        "id": "6MYTsmacwQIH",
        "outputId": "bcd2636a-05f2-4c25-943b-f42f384d3de8"
      },
      "execution_count": 10,
      "outputs": [
        {
          "output_type": "stream",
          "name": "stdout",
          "text": [
            "Nombre del alumno es Lucas Lequepi, tiene 34 años y su media es de 9.950000.\n"
          ]
        }
      ]
    },
    {
      "cell_type": "code",
      "source": [
        "nombre_alumno = 'Penélope Camacho'\n",
        "edad_alumno = 11\n",
        "media_alumno = 9.95\n",
        "print('Nombre del alumno es %s, tiene %d años y su media es %f.' %(nombre_alumno, edad_alumno, media_alumno))"
      ],
      "metadata": {
        "colab": {
          "base_uri": "https://localhost:8080/"
        },
        "id": "WBvYcgeb5Vtg",
        "outputId": "bc47d1e6-7cfc-4b3d-c503-4b403949ff8c"
      },
      "execution_count": 7,
      "outputs": [
        {
          "output_type": "stream",
          "name": "stdout",
          "text": [
            "Nombre del alumno es Penélope Camacho, tiene 11 años y su media es 9.950000.\n"
          ]
        }
      ]
    },
    {
      "cell_type": "markdown",
      "source": [
        "Cuando trabajamos con números de coma flotante (float), podemos determinar la cantidad de decimales después del punto utilizando la sintaxis %.xf, donde x es el número de decimales deseados. Utilizando las mismas variables del ejemplo anterior, el código con %.xf se vería así:"
      ],
      "metadata": {
        "id": "eWtn0UJw5hT_"
      }
    },
    {
      "cell_type": "code",
      "source": [
        "print('Nombre de alumno es %s, tiene %d años y su media es %.2f.' %(nombre_alumno, edad_alumno, media_alumno))"
      ],
      "metadata": {
        "colab": {
          "base_uri": "https://localhost:8080/"
        },
        "id": "Z0NlyRja5I0Y",
        "outputId": "3cfad4a5-00b2-45ae-8e3d-dd1122068206"
      },
      "execution_count": 11,
      "outputs": [
        {
          "output_type": "stream",
          "name": "stdout",
          "text": [
            "Nombre de alumno es Lucas Lequepi, tiene 34 años y su media es 9.95.\n"
          ]
        }
      ]
    },
    {
      "cell_type": "markdown",
      "source": [
        "Un detalle importante es que los operadores de formateo de cadena con % no funcionan directamente con valores booleanos. Una forma de manejarlo es convirtiendo el valor booleano en una cadena antes de utilizarlo en el formateo con la función str(). Por ejemplo:"
      ],
      "metadata": {
        "id": "i6FBCUZH58jw"
      }
    },
    {
      "cell_type": "code",
      "source": [
        "x = True\n",
        "print('Valor de x %s' % str(x))"
      ],
      "metadata": {
        "colab": {
          "base_uri": "https://localhost:8080/"
        },
        "id": "zjjLk1CC6FCZ",
        "outputId": "3133a138-e3cc-4e9d-ecd1-17df364d233a"
      },
      "execution_count": 12,
      "outputs": [
        {
          "output_type": "stream",
          "name": "stdout",
          "text": [
            "Valor de x True\n"
          ]
        }
      ]
    },
    {
      "cell_type": "markdown",
      "source": [
        "Método .format():\n",
        "\n",
        "También es posible utilizar el método .format() para formatear cadenas. Es más flexible y permite pasar las variables directamente dentro de la cadena, sin necesidad de operadores %. Los marcadores son simplemente {}. Por ejemplo:"
      ],
      "metadata": {
        "id": "Et1nx0r06kNm"
      }
    },
    {
      "cell_type": "code",
      "source": [
        "nombre_alumno = 'Lucas Lequepi'\n",
        "print('Nombre del alumno: {}' .format(nombre_alumno))"
      ],
      "metadata": {
        "colab": {
          "base_uri": "https://localhost:8080/"
        },
        "id": "rJEN0v5J6X80",
        "outputId": "081ae751-3179-46e8-aa2f-335f0caa15d0"
      },
      "execution_count": 13,
      "outputs": [
        {
          "output_type": "stream",
          "name": "stdout",
          "text": [
            "Nombre del alumno: Lucas Lequepi\n"
          ]
        }
      ]
    },
    {
      "cell_type": "code",
      "source": [
        "nombre_alumno = 'Lucas Lequepi'\n",
        "edad_alumno = 34\n",
        "media_alumno = 9.95\n",
        "print('Nombre del alumno {}, tiene {}, y su promedio es {}' .format(nombre_alumno, edad_alumno, media_alumno))"
      ],
      "metadata": {
        "colab": {
          "base_uri": "https://localhost:8080/"
        },
        "id": "Znrb4Ajt63WY",
        "outputId": "a4ec2dc7-198f-4099-efed-a613404a2c10"
      },
      "execution_count": 14,
      "outputs": [
        {
          "output_type": "stream",
          "name": "stdout",
          "text": [
            "Nombre del alumno Lucas Lequepi, tiene 34, y su promedio es 9.95\n"
          ]
        }
      ]
    },
    {
      "cell_type": "markdown",
      "source": [
        "Caracteres Especiales:\n",
        "\n",
        "Además de la formateo de inserción de variables en una cadena, también existen caracteres especiales. Se utilizan para representar acciones especiales o caracteres que no se pueden escribir directamente, como el “Enter” y la tabulación. A continuación, presentamos algunos de ellos. Intenta replicar todos los ejemplos y observa el resultado final."
      ],
      "metadata": {
        "id": "fGcPZ52m_smq"
      }
    },
    {
      "cell_type": "markdown",
      "source": [
        "\\n es el carácter de nueva línea y se usa para saltar una línea en el texto (similar a la función \"Enter\"). Ejemplo:"
      ],
      "metadata": {
        "id": "FLdZEwn9_wQB"
      }
    },
    {
      "cell_type": "code",
      "source": [
        "print('Estudiar es un esfuerzo constante, \\nEs como cultivar una planta, \\nNecesitamos dedicacion y paciencia, \\nPara ver madurar el fruto.')"
      ],
      "metadata": {
        "colab": {
          "base_uri": "https://localhost:8080/"
        },
        "id": "m5hO0N-J_M0P",
        "outputId": "0e7cd81c-6dd9-4fe1-b8d3-bae086756588"
      },
      "execution_count": 15,
      "outputs": [
        {
          "output_type": "stream",
          "name": "stdout",
          "text": [
            "Estudiar es un esfuerzo constante, \n",
            "Es como cultivar una planta, \n",
            "Necesitamos dedicacion y paciencia, \n",
            "Para ver madurar el fruto.\n"
          ]
        }
      ]
    },
    {
      "cell_type": "markdown",
      "source": [
        "\\t es el carácter de tabulación y se utiliza para agregar un espacio de tabulación en el texto. Ejemplo:"
      ],
      "metadata": {
        "id": "rEWted3j_vrB"
      }
    },
    {
      "cell_type": "code",
      "source": [
        "print('Cantidad\\tCalidad\\n5 muestras\\tAlta\\n3 muestras\\tBaja')"
      ],
      "metadata": {
        "colab": {
          "base_uri": "https://localhost:8080/"
        },
        "id": "OiX2dZbcATRf",
        "outputId": "8ccc9faf-fd48-4f11-a211-440ffa30e7ea"
      },
      "execution_count": 16,
      "outputs": [
        {
          "output_type": "stream",
          "name": "stdout",
          "text": [
            "Cantidad\tCalidad\n",
            "5 muestras\tAlta\n",
            "3 muestras\tBaja\n"
          ]
        }
      ]
    },
    {
      "cell_type": "markdown",
      "source": [
        "\\\\\\ se usa para imprimir una sola barra invertida. Si no se utiliza una doble barra invertida, el código podría generar un error o un resultado inesperado, ya que Python considera \\ como un carácter especial. Usamos esta sintaxis para garantizar que no ocurran errores. Ejemplo:"
      ],
      "metadata": {
        "id": "kBLrJBZJHZzp"
      }
    },
    {
      "cell_type": "code",
      "source": [
        "print('Ruta del archivo: C:\\\\archivos\\\\documento.csv')"
      ],
      "metadata": {
        "colab": {
          "base_uri": "https://localhost:8080/"
        },
        "id": "VWAinhSKAmRt",
        "outputId": "9826e06e-5bba-4c98-d562-dd6c6216885d"
      },
      "execution_count": 17,
      "outputs": [
        {
          "output_type": "stream",
          "name": "stdout",
          "text": [
            "Ruta del archivo: C:\\archivos\\documento.csv\n"
          ]
        }
      ]
    },
    {
      "cell_type": "markdown",
      "source": [
        "\\\\\" se utiliza para imprimir comillas dobles cuando estamos trabajando con una cadena creada con comillas dobles \" en el interior. Sin embargo, esto no es necesario si la cadena se crea con comillas simples '. Ejemplo:"
      ],
      "metadata": {
        "id": "ownwDGkiJn4V"
      }
    },
    {
      "cell_type": "code",
      "source": [
        "print(\"Una vez oí: \\\"Los frutos del conocimiento son los mas dulces y duraderos de todos.\\\"\")"
      ],
      "metadata": {
        "colab": {
          "base_uri": "https://localhost:8080/"
        },
        "id": "ZdYnJS3yHsyR",
        "outputId": "e35818c9-71d0-46d7-db33-7507406ad057"
      },
      "execution_count": 18,
      "outputs": [
        {
          "output_type": "stream",
          "name": "stdout",
          "text": [
            "Una vez oí: \"Los frutos del conocimiento son los mas dulces y duraderos de todos.\"\n"
          ]
        }
      ]
    },
    {
      "cell_type": "markdown",
      "source": [
        "\\\\' se utiliza para imprimir comillas simples cuando estamos trabajando con una cadena creada con comillas simples '. Si la cadena se crea con comillas dobles \", esto no es necesario. Ejemplo:"
      ],
      "metadata": {
        "id": "k4dDiC9GKROo"
      }
    },
    {
      "cell_type": "code",
      "source": [
        "print('Mi profesora una vez dijo: \\'Estudiar es la clave del éxito.\\'')"
      ],
      "metadata": {
        "colab": {
          "base_uri": "https://localhost:8080/"
        },
        "id": "UNb2LBbqKOIc",
        "outputId": "e94b9895-e662-45e7-f434-0cd912d81628"
      },
      "execution_count": 19,
      "outputs": [
        {
          "output_type": "stream",
          "name": "stdout",
          "text": [
            "Mi profesora una vez dijo: 'Estudiar es la clave del éxito.'\n"
          ]
        }
      ]
    },
    {
      "cell_type": "code",
      "source": [],
      "metadata": {
        "id": "s92jhMLmKo-7"
      },
      "execution_count": null,
      "outputs": []
    }
  ]
}