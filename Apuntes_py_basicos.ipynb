{
  "nbformat": 4,
  "nbformat_minor": 0,
  "metadata": {
    "colab": {
      "provenance": [],
      "authorship_tag": "ABX9TyMCyoElGuEcHPrJJpAZNx7k",
      "include_colab_link": true
    },
    "kernelspec": {
      "name": "python3",
      "display_name": "Python 3"
    },
    "language_info": {
      "name": "python"
    }
  },
  "cells": [
    {
      "cell_type": "markdown",
      "metadata": {
        "id": "view-in-github",
        "colab_type": "text"
      },
      "source": [
        "<a href=\"https://colab.research.google.com/github/LeCampLuke/Ejercicios-Python-Alura-/blob/main/Apuntes_py_basicos.ipynb\" target=\"_parent\"><img src=\"https://colab.research.google.com/assets/colab-badge.svg\" alt=\"Open In Colab\"/></a>"
      ]
    },
    {
      "cell_type": "markdown",
      "source": [
        "Comentarios de una línea:"
      ],
      "metadata": {
        "id": "X6Z5SSX2uBsZ"
      }
    },
    {
      "cell_type": "code",
      "execution_count": 1,
      "metadata": {
        "colab": {
          "base_uri": "https://localhost:8080/"
        },
        "id": "qyFj5He1tube",
        "outputId": "d9e9f34b-107f-46d7-83fe-f3656dae4992"
      },
      "outputs": [
        {
          "output_type": "stream",
          "name": "stdout",
          "text": [
            "10\n"
          ]
        }
      ],
      "source": [
        "# Este es un comentario de una línea\n",
        "print(10) # Podemos colocar otro comentario en una línea después de un código"
      ]
    },
    {
      "cell_type": "markdown",
      "source": [
        "Comentarios de varias líneas:\n",
        "\n"
      ],
      "metadata": {
        "id": "Kxh_j6kXt5MH"
      }
    },
    {
      "cell_type": "code",
      "source": [
        "'''\n",
        "Este es un comentario\n",
        "de varias líneas.\n",
        "'''"
      ],
      "metadata": {
        "colab": {
          "base_uri": "https://localhost:8080/",
          "height": 36
        },
        "id": "HMfHE2xgt5t_",
        "outputId": "317b2291-8128-4baa-e178-f1be17b6855d"
      },
      "execution_count": 4,
      "outputs": [
        {
          "output_type": "execute_result",
          "data": {
            "text/plain": [
              "'\\nEste es un comentario\\nde varias líneas.\\n'"
            ],
            "application/vnd.google.colaboratory.intrinsic+json": {
              "type": "string"
            }
          },
          "metadata": {},
          "execution_count": 4
        }
      ]
    },
    {
      "cell_type": "markdown",
      "source": [
        "Encabezados:\n",
        "\n"
      ],
      "metadata": {
        "id": "CcpTC76uujcK"
      }
    },
    {
      "cell_type": "code",
      "source": [
        "# Encabezado de nivel 1\n",
        "## Encabezado de nivel 2\n",
        "### Encabezado de nivel 3"
      ],
      "metadata": {
        "id": "Sn03UJS1uj1J"
      },
      "execution_count": 7,
      "outputs": []
    },
    {
      "cell_type": "markdown",
      "source": [
        "Negritas e itálicas:\n",
        "\n"
      ],
      "metadata": {
        "id": "IHBMDk3DvH-9"
      }
    },
    {
      "cell_type": "code",
      "source": [
        "**Texto en negritas**"
      ],
      "metadata": {
        "id": "6KICrBcBwvYN"
      },
      "execution_count": null,
      "outputs": []
    },
    {
      "cell_type": "code",
      "source": [
        "*Texto en cursiva*"
      ],
      "metadata": {
        "id": "tjOdb0WWwvs9"
      },
      "execution_count": null,
      "outputs": []
    },
    {
      "cell_type": "code",
      "source": [
        "***Texto en negritas y cursiva***"
      ],
      "metadata": {
        "id": "NMzJNlkAwwAV"
      },
      "execution_count": null,
      "outputs": []
    },
    {
      "cell_type": "markdown",
      "source": [
        "Listas:\n",
        "\n"
      ],
      "metadata": {
        "id": "FfvcJ-33w7FH"
      }
    },
    {
      "cell_type": "code",
      "source": [
        "* Elemento 1\n",
        "* Elemento 2\n",
        "* Elemento 3"
      ],
      "metadata": {
        "id": "s7RxxAvsw8Fm"
      },
      "execution_count": null,
      "outputs": []
    },
    {
      "cell_type": "code",
      "source": [
        "1. Elemento 1\n",
        "2. Elemento 2\n",
        "3. Elemento 3"
      ],
      "metadata": {
        "id": "yzb6LoPlxNX2"
      },
      "execution_count": null,
      "outputs": []
    },
    {
      "cell_type": "markdown",
      "source": [
        "Enlaces:\n",
        "\n"
      ],
      "metadata": {
        "id": "5y37jYzDxDiu"
      }
    },
    {
      "cell_type": "code",
      "source": [
        "[Página de Alura](https://www.aluracursos.com/)"
      ],
      "metadata": {
        "id": "7gTw8oSlxSBm"
      },
      "execution_count": null,
      "outputs": []
    },
    {
      "cell_type": "markdown",
      "source": [
        "Practicando Markdown.\n",
        "\n",
        "# Practicando el comentario de una linea\n",
        "\n",
        "# Encabezado 1\n",
        "## Encabezado 2\n",
        "### Encabezado 3\n",
        "\n",
        "**Texto en negritas**\n",
        "\n",
        "*Texto en cursiva*\n",
        "\n",
        "***Texto en negritas y cursiva***\n",
        "\n",
        "* Elemento 1\n",
        "* Elemento 2\n",
        "* Elemento 3\n",
        "\n",
        "1. Elemento 1\n",
        "2. Elemento 2\n",
        "3. Elemento 3\n",
        "\n",
        "[Página de Alura](https://www.aluracursos.com/)\n",
        "\n",
        "\n"
      ],
      "metadata": {
        "id": "h4_JXDiCyMdo"
      }
    }
  ]
}