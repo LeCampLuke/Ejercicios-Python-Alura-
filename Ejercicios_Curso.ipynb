{
  "nbformat": 4,
  "nbformat_minor": 0,
  "metadata": {
    "colab": {
      "provenance": [],
      "authorship_tag": "ABX9TyMDLbIrE4owBjTDZkNcJRI/",
      "include_colab_link": true
    },
    "kernelspec": {
      "name": "python3",
      "display_name": "Python 3"
    },
    "language_info": {
      "name": "python"
    }
  },
  "cells": [
    {
      "cell_type": "markdown",
      "metadata": {
        "id": "view-in-github",
        "colab_type": "text"
      },
      "source": [
        "<a href=\"https://colab.research.google.com/github/LeCampLuke/Ejercicios-Python-Alura-/blob/main/Ejercicios_Curso.ipynb\" target=\"_parent\"><img src=\"https://colab.research.google.com/assets/colab-badge.svg\" alt=\"Open In Colab\"/></a>"
      ]
    },
    {
      "cell_type": "markdown",
      "source": [
        "Practicar uso de la funcion 'print':\n",
        "\n",
        "1 - Imprime la frase \"Escuela de Datos de Alura\".\n",
        "\n",
        "2 - Imprime tu nombre y tu apellido siguiendo la estructura a continuación:\n",
        "\n",
        "    Nombre: [tu nombre]\n",
        "    Apellido: [tu apellido]\n",
        "\n",
        "3 - Imprime tu primer nombre letra por letra. Por ejemplo, si mi nombre es Álvaro, la salida sería:\n",
        "\n",
        "    Á\n",
        "    L\n",
        "    V\n",
        "    A\n",
        "    R\n",
        "    O\n",
        "\n",
        "4 - Imprime tu fecha de nacimiento en formato día mes año. Recuerda que los valores de día y año no deben estar entre comillas. Suponiendo una fecha de cumpleaños el 28 de febrero de 2003, el formato debe ser como el siguiente:\n",
        "\n",
        "    28 febrero 2003\n",
        "\n",
        "5 - Imprime, en una sola instrucción print, el año actual en el que estás realizando este curso. El valor del año debe ser un dato numérico, y la salida de print debe ser la siguiente:\n",
        "\n",
        "    Año actual: [año]"
      ],
      "metadata": {
        "id": "uMPfmAdkHOnL"
      }
    },
    {
      "cell_type": "markdown",
      "source": [
        "Resolucion:"
      ],
      "metadata": {
        "id": "JF5oIG4IJp3y"
      }
    },
    {
      "cell_type": "code",
      "execution_count": 1,
      "metadata": {
        "colab": {
          "base_uri": "https://localhost:8080/"
        },
        "id": "87mepYNnHBXZ",
        "outputId": "b3a89918-ee45-4815-af78-48645a853ec5"
      },
      "outputs": [
        {
          "output_type": "stream",
          "name": "stdout",
          "text": [
            "Escuela de Datos de Alura\n"
          ]
        }
      ],
      "source": [
        "print('Escuela de Datos de Alura')"
      ]
    },
    {
      "cell_type": "code",
      "source": [
        "print('Nombre: Lucas')\n",
        "print('Apellido: Lequepi')"
      ],
      "metadata": {
        "colab": {
          "base_uri": "https://localhost:8080/"
        },
        "id": "gCEOsW12J7LM",
        "outputId": "f10ddb0f-d83f-4a23-c84a-9b44425a7dab"
      },
      "execution_count": 7,
      "outputs": [
        {
          "output_type": "stream",
          "name": "stdout",
          "text": [
            "Nombre: Lucas\n",
            "Apellido: Lequepi\n"
          ]
        }
      ]
    },
    {
      "cell_type": "code",
      "source": [
        "print('L')\n",
        "print('U')\n",
        "print('C')\n",
        "print('A')\n",
        "print('S')\n",
        "print(' ')\n",
        "print('L')\n",
        "print('E')\n",
        "print('Q')\n",
        "print('U')\n",
        "print('E')\n",
        "print('P')\n",
        "print('I')"
      ],
      "metadata": {
        "colab": {
          "base_uri": "https://localhost:8080/"
        },
        "id": "Wl_cJEbRdtN9",
        "outputId": "b903f6b9-1708-4d3c-b59f-cf2ec376cd01"
      },
      "execution_count": 8,
      "outputs": [
        {
          "output_type": "stream",
          "name": "stdout",
          "text": [
            "L\n",
            "U\n",
            "C\n",
            "A\n",
            "S\n",
            " \n",
            "L\n",
            "E\n",
            "Q\n",
            "U\n",
            "E\n",
            "P\n",
            "I\n"
          ]
        }
      ]
    },
    {
      "cell_type": "code",
      "source": [
        "print(26, 'diciembre', 1990)"
      ],
      "metadata": {
        "colab": {
          "base_uri": "https://localhost:8080/"
        },
        "id": "Z_pA-jQreuux",
        "outputId": "cbf14391-dd2e-4062-ed0d-0cec39505239"
      },
      "execution_count": 18,
      "outputs": [
        {
          "output_type": "stream",
          "name": "stdout",
          "text": [
            "26 diciembre 1990\n"
          ]
        }
      ]
    },
    {
      "cell_type": "code",
      "source": [
        "print('Año actual:', 2025)"
      ],
      "metadata": {
        "colab": {
          "base_uri": "https://localhost:8080/"
        },
        "id": "ugyR08aHfTT3",
        "outputId": "b202cbe3-a063-4aa7-9dd3-56200cdfe878"
      },
      "execution_count": 20,
      "outputs": [
        {
          "output_type": "stream",
          "name": "stdout",
          "text": [
            "Año actual: 2025\n"
          ]
        }
      ]
    }
  ]
}