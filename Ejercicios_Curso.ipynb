{
  "nbformat": 4,
  "nbformat_minor": 0,
  "metadata": {
    "colab": {
      "provenance": [],
      "authorship_tag": "ABX9TyNblsTKUB3jGkdOzIqS4YTo",
      "include_colab_link": true
    },
    "kernelspec": {
      "name": "python3",
      "display_name": "Python 3"
    },
    "language_info": {
      "name": "python"
    }
  },
  "cells": [
    {
      "cell_type": "markdown",
      "metadata": {
        "id": "view-in-github",
        "colab_type": "text"
      },
      "source": [
        "<a href=\"https://colab.research.google.com/github/LeCampLuke/Ejercicios-Python-Alura-/blob/main/Ejercicios_Curso.ipynb\" target=\"_parent\"><img src=\"https://colab.research.google.com/assets/colab-badge.svg\" alt=\"Open In Colab\"/></a>"
      ]
    },
    {
      "cell_type": "markdown",
      "source": [
        "Practicar uso de la funcion 'print':\n",
        "\n",
        "1 - Imprime la frase \"Escuela de Datos de Alura\".\n",
        "\n",
        "2 - Imprime tu nombre y tu apellido siguiendo la estructura a continuación:\n",
        "\n",
        "    Nombre: [tu nombre]\n",
        "    Apellido: [tu apellido]\n",
        "\n",
        "3 - Imprime tu primer nombre letra por letra. Por ejemplo, si mi nombre es Álvaro, la salida sería:\n",
        "\n",
        "    Á\n",
        "    L\n",
        "    V\n",
        "    A\n",
        "    R\n",
        "    O\n",
        "\n",
        "4 - Imprime tu fecha de nacimiento en formato día mes año. Recuerda que los valores de día y año no deben estar entre comillas. Suponiendo una fecha de cumpleaños el 28 de febrero de 2003, el formato debe ser como el siguiente:\n",
        "\n",
        "    28 febrero 2003\n",
        "\n",
        "5 - Imprime, en una sola instrucción print, el año actual en el que estás realizando este curso. El valor del año debe ser un dato numérico, y la salida de print debe ser la siguiente:\n",
        "\n",
        "    Año actual: [año]"
      ],
      "metadata": {
        "id": "uMPfmAdkHOnL"
      }
    },
    {
      "cell_type": "markdown",
      "source": [
        "Resolucion:"
      ],
      "metadata": {
        "id": "JF5oIG4IJp3y"
      }
    },
    {
      "cell_type": "code",
      "execution_count": null,
      "metadata": {
        "colab": {
          "base_uri": "https://localhost:8080/"
        },
        "id": "87mepYNnHBXZ",
        "outputId": "b3a89918-ee45-4815-af78-48645a853ec5"
      },
      "outputs": [
        {
          "output_type": "stream",
          "name": "stdout",
          "text": [
            "Escuela de Datos de Alura\n"
          ]
        }
      ],
      "source": [
        "print('Escuela de Datos de Alura')"
      ]
    },
    {
      "cell_type": "code",
      "source": [
        "print('Nombre: Lucas')\n",
        "print('Apellido: Lequepi')"
      ],
      "metadata": {
        "colab": {
          "base_uri": "https://localhost:8080/"
        },
        "id": "gCEOsW12J7LM",
        "outputId": "f10ddb0f-d83f-4a23-c84a-9b44425a7dab"
      },
      "execution_count": null,
      "outputs": [
        {
          "output_type": "stream",
          "name": "stdout",
          "text": [
            "Nombre: Lucas\n",
            "Apellido: Lequepi\n"
          ]
        }
      ]
    },
    {
      "cell_type": "code",
      "source": [
        "print('L')\n",
        "print('U')\n",
        "print('C')\n",
        "print('A')\n",
        "print('S')\n",
        "print(' ')\n",
        "print('L')\n",
        "print('E')\n",
        "print('Q')\n",
        "print('U')\n",
        "print('E')\n",
        "print('P')\n",
        "print('I')"
      ],
      "metadata": {
        "colab": {
          "base_uri": "https://localhost:8080/"
        },
        "id": "Wl_cJEbRdtN9",
        "outputId": "b903f6b9-1708-4d3c-b59f-cf2ec376cd01"
      },
      "execution_count": null,
      "outputs": [
        {
          "output_type": "stream",
          "name": "stdout",
          "text": [
            "L\n",
            "U\n",
            "C\n",
            "A\n",
            "S\n",
            " \n",
            "L\n",
            "E\n",
            "Q\n",
            "U\n",
            "E\n",
            "P\n",
            "I\n"
          ]
        }
      ]
    },
    {
      "cell_type": "code",
      "source": [
        "print(26, 'diciembre', 1990)"
      ],
      "metadata": {
        "colab": {
          "base_uri": "https://localhost:8080/"
        },
        "id": "Z_pA-jQreuux",
        "outputId": "cbf14391-dd2e-4062-ed0d-0cec39505239"
      },
      "execution_count": null,
      "outputs": [
        {
          "output_type": "stream",
          "name": "stdout",
          "text": [
            "26 diciembre 1990\n"
          ]
        }
      ]
    },
    {
      "cell_type": "code",
      "source": [
        "print('Año actual:', 2025)"
      ],
      "metadata": {
        "colab": {
          "base_uri": "https://localhost:8080/"
        },
        "id": "ugyR08aHfTT3",
        "outputId": "b202cbe3-a063-4aa7-9dd3-56200cdfe878"
      },
      "execution_count": null,
      "outputs": [
        {
          "output_type": "stream",
          "name": "stdout",
          "text": [
            "Año actual: 2025\n"
          ]
        }
      ]
    },
    {
      "cell_type": "markdown",
      "source": [
        "Recopilación y muestra de datos\n",
        "\n",
        "1 - Crea un programa que solicite al usuario que escriba su nombre y luego imprima \"Hola, [nombre].\"\n",
        "\n",
        "2 - Crea un programa que solicite al usuario que escriba su nombre y edad, y luego imprima \"Hola, [nombre], tienes [edad] años.\"\n",
        "\n",
        "3 - Crea un programa que solicite al usuario que escriba su nombre, edad y altura en metros, y luego imprima \"Hola, [nombre], tienes [edad] años y mides [altura] metros.\"\n",
        "\n",
        "Calculadora con operadores\n",
        "\n",
        "4 - Crea un programa que solicite dos valores numéricos al usuario y luego imprima la suma de ambos valores.\n",
        "\n",
        "5 - Crea un programa que solicite tres valores numéricos al usuario y luego imprima la suma de los tres valores.\n",
        "\n",
        "6 - Crea un programa que solicite dos valores numéricos al usuario y luego imprima la resta del primero menos el segundo valor.\n",
        "\n",
        "7 - Crea un programa que solicite dos valores numéricos al usuario y luego imprima la multiplicación de los dos valores.\n",
        "\n",
        "8 - Crea un programa que solicite dos valores numéricos, un numerador y un denominador, y realice la división entre los dos valores. Asegúrate de que el valor del denominador no sea igual a 0.\n",
        "\n",
        "9 - Crea un programa que solicite dos valores numéricos, un operador y una potencia, y realice la exponenciación entre estos dos valores.\n",
        "\n",
        "10 - Crea un programa que solicite dos valores numéricos, un numerador y un denominador, y realice la división entera entre los dos valores. Asegúrate de que el valor del denominador no sea igual a 0.\n",
        "\n",
        "11 - Crea un programa que solicite dos valores numéricos, un numerador y un denominador, y devuelva el resto de la división entre los dos valores. Asegúrate de que el valor del denominador no sea igual a 0.\n",
        "\n",
        "12 - Crea un código que solicite las 3 notas de un estudiante e imprima el promedio de las notas.\n",
        "\n",
        "13 - Crea un código que calcule e imprima el promedio ponderado de los números 5, 12, 20 y 15 con pesos respectivamente iguales a 1, 2, 3 y 4.\n",
        "\n",
        "Editando textos\n",
        "\n",
        "14 - Crea una variable llamada \"frase\" y asígnale una cadena de texto de tu elección. Luego, imprime la frase en pantalla.\n",
        "\n",
        "15 - Crea un código que solicite una frase y luego imprima la frase en pantalla.\n",
        "\n",
        "16 - Crea un código que solicite una frase al usuario y luego imprima la misma frase ingresada pero en mayúsculas.\n",
        "\n",
        "17 - Crea un código que solicite una frase al usuario y luego imprima la misma frase ingresada pero en minúsculas.\n",
        "\n",
        "18 - Crea una variable llamada \"frase\" y asígnale una cadena de texto de tu elección. Luego, imprime la frase sin espacios en blanco al principio y al final.\n",
        "\n",
        "19 - Crea un código que solicite una frase al usuario y luego imprima la misma frase sin espacios en blanco al principio y al final.\n",
        "\n",
        "20 - Crea un código que solicite una frase al usuario y luego imprima la misma frase sin espacios en blanco al principio y al final, además de convertirla a minúsculas.\n",
        "\n",
        "21 - Crea un código que solicite una frase al usuario y luego imprima la misma frase con todas las vocales \"e\" reemplazadas por la letra \"f\".\n",
        "\n",
        "22 - Crea un código que solicite una frase al usuario y luego imprima la misma frase con todas las vocales \"a\" reemplazadas por el carácter \"@\".\n",
        "\n",
        "23 - Crea un código que solicite una frase al usuario y luego imprima la misma frase con todas las consonantes \"s\" reemplazadas por el carácter \"$\"."
      ],
      "metadata": {
        "id": "JtuFzTGpPpzQ"
      }
    },
    {
      "cell_type": "markdown",
      "source": [
        "1 - Crea un programa que solicite al usuario que escriba su nombre y luego imprima \"Hola, [nombre].\"\n",
        "\n"
      ],
      "metadata": {
        "id": "j_lCvOOpP2tn"
      }
    },
    {
      "cell_type": "code",
      "source": [
        "nombre = input('Ingresa tu nombre:')\n",
        "print(f'Hola,', nombre)"
      ],
      "metadata": {
        "colab": {
          "base_uri": "https://localhost:8080/"
        },
        "id": "5drQzNgiP6Ff",
        "outputId": "a12ac72e-fc2c-4e8f-fc63-2fd7c37d19ec"
      },
      "execution_count": 1,
      "outputs": [
        {
          "output_type": "stream",
          "name": "stdout",
          "text": [
            "Ingresa tu nombre:Lucas\n",
            "Hola, Lucas\n"
          ]
        }
      ]
    },
    {
      "cell_type": "markdown",
      "source": [
        "2 - Crea un programa que solicite al usuario que escriba su nombre y edad, y luego imprima \"Hola, [nombre], tienes [edad] años.\""
      ],
      "metadata": {
        "id": "30zzs0yIQz4O"
      }
    },
    {
      "cell_type": "code",
      "source": [
        "nombre = input('Ingresa tu nombre:')\n",
        "edad = int(input('Ingresa tu edad:'))\n",
        "print(f'Hola {nombre}, tienes {edad} años.')\n"
      ],
      "metadata": {
        "colab": {
          "base_uri": "https://localhost:8080/"
        },
        "id": "ICq_xqaZQtbd",
        "outputId": "8be5002d-4a25-4455-843f-f7b867f61012"
      },
      "execution_count": 2,
      "outputs": [
        {
          "output_type": "stream",
          "name": "stdout",
          "text": [
            "Ingresa tu nombre:Lucas\n",
            "Ingresa tu edad:34\n",
            "Hola Lucas, tienes 34 años\n"
          ]
        }
      ]
    },
    {
      "cell_type": "markdown",
      "source": [
        "3 - Crea un programa que solicite al usuario que escriba su nombre, edad y altura en metros, y luego imprima \"Hola, [nombre], tienes [edad] años y mides [altura] metros.\"\n",
        "\n"
      ],
      "metadata": {
        "id": "H0XCeGJQSXx_"
      }
    },
    {
      "cell_type": "code",
      "source": [
        "nombre = input('Ingresa tu nombre: ')\n",
        "edad = int(input('Ingresa tu edad: '))\n",
        "altura = float(input('Ingresa tu altura: '))\n",
        "print(f'Hola, {nombre}, tienes {edad} años y mides {altura} metros.')"
      ],
      "metadata": {
        "colab": {
          "base_uri": "https://localhost:8080/"
        },
        "id": "XXHJI8LURVXO",
        "outputId": "56658d5c-9b3d-4959-a844-a8cb3cc4e4db"
      },
      "execution_count": 3,
      "outputs": [
        {
          "output_type": "stream",
          "name": "stdout",
          "text": [
            "Ingresa tu nombre:Lucas\n",
            "Ingresa tu edad:34\n",
            "Ingresa tu altura1.80\n",
            "Hola, Lucas, tienes 34 años y mides 1.8 metros.\n"
          ]
        }
      ]
    },
    {
      "cell_type": "markdown",
      "source": [
        "Calculadora con operadores\n",
        "\n"
      ],
      "metadata": {
        "id": "AMcBfDNITpk-"
      }
    },
    {
      "cell_type": "markdown",
      "source": [
        "4 - Crea un programa que solicite dos valores numéricos al usuario y luego imprima la suma de ambos valores."
      ],
      "metadata": {
        "id": "uPX4O_DaTsye"
      }
    },
    {
      "cell_type": "code",
      "source": [
        "x = int(input('Ingresa número:'))\n",
        "y = int(input('Ingresa otro número:'))\n",
        "print(f'La suma de {x} y {y} es {int(x) + int(y)}')"
      ],
      "metadata": {
        "colab": {
          "base_uri": "https://localhost:8080/"
        },
        "id": "DOC0ZlJ6TUh5",
        "outputId": "98796338-762b-4b30-e226-9dd771c98473"
      },
      "execution_count": 4,
      "outputs": [
        {
          "output_type": "stream",
          "name": "stdout",
          "text": [
            "Ingresa número:4\n",
            "Ingresa otro número:6\n",
            "La suma de 4 y 6 es 10\n"
          ]
        }
      ]
    },
    {
      "cell_type": "markdown",
      "source": [
        "5 - Crea un programa que solicite tres valores numéricos al usuario y luego imprima la suma de los tres valores.\n",
        "\n"
      ],
      "metadata": {
        "id": "R58Dyd_0V6je"
      }
    },
    {
      "cell_type": "code",
      "source": [
        "x = int(input('Ingrasa numero:'))\n",
        "y = int(input('Ingresa otro numero:'))\n",
        "z = int(input('Ingresa ultimo numero:'))\n",
        "resultado = x + y + z\n",
        "print(f'La suma de los 3 valores es: {resultado}')"
      ],
      "metadata": {
        "colab": {
          "base_uri": "https://localhost:8080/"
        },
        "id": "tqYW8KoNV8dl",
        "outputId": "d5a4cced-3bf0-452d-e235-660d28636bb4"
      },
      "execution_count": 6,
      "outputs": [
        {
          "output_type": "stream",
          "name": "stdout",
          "text": [
            "Ingrasa numero:5\n",
            "Ingresa otro numero:5\n",
            "Ingresa ultimo numero:5\n",
            "La suma de los 3 valores es: 15\n"
          ]
        }
      ]
    },
    {
      "cell_type": "markdown",
      "source": [
        "6 - Crea un programa que solicite dos valores numéricos al usuario y luego imprima la resta del primero menos el segundo valor.\n",
        "\n"
      ],
      "metadata": {
        "id": "tA3IPSfuZzS1"
      }
    },
    {
      "cell_type": "code",
      "source": [
        "x = int(input('Ingresa numero:'))\n",
        "y = int(input('Ingresa numero:'))\n",
        "print(f'La resta de {x} menos {y} es: {x - y}')"
      ],
      "metadata": {
        "colab": {
          "base_uri": "https://localhost:8080/"
        },
        "id": "HGLsCCS-XZ6i",
        "outputId": "0e1541b9-52d3-4f3e-c02e-5b3bec34de85"
      },
      "execution_count": 8,
      "outputs": [
        {
          "output_type": "stream",
          "name": "stdout",
          "text": [
            "Ingresa numero:5\n",
            "Ingresa numero:2\n",
            "La resta de 5 menos 2 es: 3\n"
          ]
        }
      ]
    },
    {
      "cell_type": "markdown",
      "source": [
        "7 - Crea un programa que solicite dos valores numéricos al usuario y luego imprima la multiplicación de los dos valores.\n",
        "\n"
      ],
      "metadata": {
        "id": "Pd9HUEU-a-Hl"
      }
    },
    {
      "cell_type": "code",
      "source": [
        "x = int(input('Ingresa numero:'))\n",
        "y = int(input('Ingresa otro numero:'))\n",
        "print(f'La multiplicacion de {x} por {y} es: {x * y}')"
      ],
      "metadata": {
        "colab": {
          "base_uri": "https://localhost:8080/"
        },
        "id": "i6IX_Z3TaWFZ",
        "outputId": "e5ca831e-5591-4879-9637-5865bbc7e691"
      },
      "execution_count": 9,
      "outputs": [
        {
          "output_type": "stream",
          "name": "stdout",
          "text": [
            "Ingresa numero:5\n",
            "Ingresa otro numero:5\n",
            "La multiplicacion de 5 por 5 es: 25\n"
          ]
        }
      ]
    },
    {
      "cell_type": "markdown",
      "source": [
        "8 - Crea un programa que solicite dos valores numéricos, un numerador y un denominador, y realice la división entre los dos valores. Asegúrate de que el valor del denominador no sea igual a 0.\n",
        "\n"
      ],
      "metadata": {
        "id": "x2bvSs9Wbk6_"
      }
    },
    {
      "cell_type": "code",
      "source": [
        "numerador = int(input('Ingresa numerador:'))\n",
        "denominador = int(input('Ingresa denominador:'))\n",
        "if int(denominador) != 0:\n",
        "    print(f'La division de {numerador} entre el {denominador} es: {numerador / denominador}')\n",
        "else:\n",
        "    print('Error: El denominador no puede ser cero.')"
      ],
      "metadata": {
        "colab": {
          "base_uri": "https://localhost:8080/"
        },
        "id": "0fQCBMVubgc1",
        "outputId": "17c5d4ae-1341-4071-d2e4-86d6805625c9"
      },
      "execution_count": 10,
      "outputs": [
        {
          "output_type": "stream",
          "name": "stdout",
          "text": [
            "Ingresa numerador:15\n",
            "Ingresa denominador:3\n",
            "La division de 15 entre el 3 es: 5.0\n"
          ]
        }
      ]
    },
    {
      "cell_type": "code",
      "source": [
        "numerador = int(input('Ingresa numerador: '))\n",
        "denominador = int(input('Ingresa denominador (OBS: el valor no puede ser nulo): '))\n",
        "print(numerador / denominador)"
      ],
      "metadata": {
        "id": "SOF7SnNYI4jK",
        "outputId": "ded4e6af-74d0-44f7-ea41-17cffc311cd3",
        "colab": {
          "base_uri": "https://localhost:8080/"
        }
      },
      "execution_count": 14,
      "outputs": [
        {
          "output_type": "stream",
          "name": "stdout",
          "text": [
            "Ingresa numerador: 15\n",
            "Ingresa denominador (OBS: el valor no puede ser nulo): 3\n",
            "5.0\n"
          ]
        }
      ]
    },
    {
      "cell_type": "markdown",
      "source": [
        "9 - Crea un programa que solicite dos valores numéricos, un operador y una potencia, y realice la exponenciación entre estos dos valores.\n",
        "\n"
      ],
      "metadata": {
        "id": "ak9dXed_fHt9"
      }
    },
    {
      "cell_type": "code",
      "source": [
        "x = int(input('Ingresa numero:'))\n",
        "y = int(input('Ingresa la potencia:'))\n",
        "print(f'{x} elevado a la {y} es: {x ** y}')"
      ],
      "metadata": {
        "colab": {
          "base_uri": "https://localhost:8080/"
        },
        "id": "o1bmWBTlfF_F",
        "outputId": "5d87ae36-2bfd-42c1-bc48-e836afc11716"
      },
      "execution_count": 15,
      "outputs": [
        {
          "output_type": "stream",
          "name": "stdout",
          "text": [
            "Ingresa numero:3\n",
            "Ingresa la potencia:3\n",
            "3 elevado a la 3 es: 27\n"
          ]
        }
      ]
    },
    {
      "cell_type": "markdown",
      "source": [
        "10 - Crea un programa que solicite dos valores numéricos, un numerador y un denominador, y realice la división entera entre los dos valores. Asegúrate de que el valor del denominador no sea igual a 0.\n",
        "\n"
      ],
      "metadata": {
        "id": "r67P3TPbgUCn"
      }
    },
    {
      "cell_type": "code",
      "source": [
        "x = int(input('Ingresa numerador:'))\n",
        "y = int(input('Ingresa denominador:'))\n",
        "if int(y) !=0:\n",
        "  print(f'La division entera de {x} y {y} es {x // y}')\n",
        "else:\n",
        "  print('Error: El denominador no puede ser cero.')"
      ],
      "metadata": {
        "colab": {
          "base_uri": "https://localhost:8080/"
        },
        "id": "DGCLNLcdgKUf",
        "outputId": "6858491b-848b-4efe-c536-b1c3b2325086"
      },
      "execution_count": 18,
      "outputs": [
        {
          "output_type": "stream",
          "name": "stdout",
          "text": [
            "Ingresa numerador:10\n",
            "Ingresa denominador:5\n",
            "La division entera de 10 y 5 es 2\n"
          ]
        }
      ]
    },
    {
      "cell_type": "code",
      "source": [
        "numerador = int(input('Ingrese el numerador: '))\n",
        "denominador = int(input('Ingrese el denominador (OBS: el valor no puede ser nulo): '))\n",
        "print(numerador // denominador)"
      ],
      "metadata": {
        "id": "cy7f7mDtRbTV",
        "outputId": "c698dc72-8d1c-4f71-a1c9-2d0e61d63a95",
        "colab": {
          "base_uri": "https://localhost:8080/"
        }
      },
      "execution_count": 19,
      "outputs": [
        {
          "output_type": "stream",
          "name": "stdout",
          "text": [
            "Ingrese el numerador: 10\n",
            "Ingrese el denominador (OBS: el valor no puede ser nulo): 5\n",
            "2\n"
          ]
        }
      ]
    },
    {
      "cell_type": "markdown",
      "source": [
        "11 - Crea un programa que solicite dos valores numéricos, un numerador y un denominador, y devuelva el resto de la división entre los dos valores. Asegúrate de que el valor del denominador no sea igual a 0.\n",
        "\n"
      ],
      "metadata": {
        "id": "UpplKYuQhYbO"
      }
    },
    {
      "cell_type": "code",
      "source": [
        "x = int(input('Ingresa numerador:'))\n",
        "y = int(input('Ingresa denominador:'))\n",
        "if int(y) !=0:\n",
        "  print(f'El resto de la division de {x} y {y} es {x % y}')\n",
        "else:\n",
        "    print('Error: El denominador no puede ser cero.')"
      ],
      "metadata": {
        "colab": {
          "base_uri": "https://localhost:8080/"
        },
        "id": "0SiIRXZVg9pe",
        "outputId": "986a9365-9d35-4ced-fd65-8e06e874eb6a"
      },
      "execution_count": 21,
      "outputs": [
        {
          "output_type": "stream",
          "name": "stdout",
          "text": [
            "Ingresa numerador:10\n",
            "Ingresa denominador:5\n",
            "El resto de la division de 10 y 5 es 0\n"
          ]
        }
      ]
    },
    {
      "cell_type": "markdown",
      "source": [
        "12 - Crea un código que solicite las 3 notas de un estudiante e imprima el promedio de las notas.\n",
        "\n"
      ],
      "metadata": {
        "id": "-p6m9LGtppnU"
      }
    },
    {
      "cell_type": "code",
      "source": [
        "x = float(input('Ingresa nota 1:'))\n",
        "y = float(input('Ingresa nota 2:'))\n",
        "z = float(input('Ingresa nota 3:'))\n",
        "print(f'El promedio del alumno es: {(x + y + z) / 3}')"
      ],
      "metadata": {
        "colab": {
          "base_uri": "https://localhost:8080/"
        },
        "id": "rE4gX-zGjRTm",
        "outputId": "52350573-0775-4139-921c-5baf4826acff"
      },
      "execution_count": 22,
      "outputs": [
        {
          "output_type": "stream",
          "name": "stdout",
          "text": [
            "Ingresa nota 1:7\n",
            "Ingresa nota 2:6.5\n",
            "Ingresa nota 3:6\n",
            "El promedio del alumno es: 6.5\n"
          ]
        }
      ]
    },
    {
      "cell_type": "markdown",
      "source": [
        "13 - Crea un código que calcule e imprima el promedio ponderado de los números 5, 12, 20 y 15 con pesos respectivamente iguales a 1, 2, 3 y 4.\n",
        "\n"
      ],
      "metadata": {
        "id": "6wywvVJuqmZ0"
      }
    },
    {
      "cell_type": "code",
      "source": [
        "numero_1 = 5\n",
        "numero_2 = 12\n",
        "numero_3 = 20\n",
        "numero_4 = 15\n",
        "peso_1 = 1\n",
        "peso_2 = 2\n",
        "peso_3 = 3\n",
        "peso_4 = 4\n",
        "print(f'El promedio ponderado es: {(numero_1 * peso_1 + numero_2 * peso_2 + numero_3 * peso_3 + numero_4 * peso_4) / (peso_1 + peso_2 + peso_3 + peso_4)}')"
      ],
      "metadata": {
        "id": "dINvuAiaqFX8",
        "outputId": "de4de61b-c741-4581-e492-aba6d43eb927",
        "colab": {
          "base_uri": "https://localhost:8080/"
        }
      },
      "execution_count": null,
      "outputs": [
        {
          "output_type": "stream",
          "name": "stdout",
          "text": [
            "El promedio ponderado es: 14.9\n"
          ]
        }
      ]
    },
    {
      "cell_type": "code",
      "source": [
        "media_ponderada = (5*1 + 12*2 + 20*3 + 15*4) / (1+2+3+4)\n",
        "print(f'Media {media_ponderada}.')"
      ],
      "metadata": {
        "id": "iKtQU1dQSfWz",
        "outputId": "08f8d317-4601-4900-ea70-b62c51d56a9f",
        "colab": {
          "base_uri": "https://localhost:8080/"
        }
      },
      "execution_count": 23,
      "outputs": [
        {
          "output_type": "stream",
          "name": "stdout",
          "text": [
            "Media 14.9.\n"
          ]
        }
      ]
    },
    {
      "cell_type": "markdown",
      "source": [
        "Editando textos"
      ],
      "metadata": {
        "id": "hBuN3XtXt9Z5"
      }
    },
    {
      "cell_type": "markdown",
      "source": [
        "14 - Crea una variable llamada \"frase\" y asígnale una cadena de texto de tu elección. Luego, imprime la frase en pantalla.\n",
        "\n"
      ],
      "metadata": {
        "id": "e57N43iiuA2S"
      }
    },
    {
      "cell_type": "code",
      "source": [
        "frase = ('Hola, soy el Barto')\n",
        "print(frase)"
      ],
      "metadata": {
        "id": "ARtyguJdtZoE",
        "outputId": "f13d0709-5e5c-4d09-cb1c-08441e75d70b",
        "colab": {
          "base_uri": "https://localhost:8080/"
        }
      },
      "execution_count": null,
      "outputs": [
        {
          "output_type": "stream",
          "name": "stdout",
          "text": [
            "Hola, soy el Barto\n"
          ]
        }
      ]
    },
    {
      "cell_type": "markdown",
      "source": [
        "15 - Crea un código que solicite una frase y luego imprima la frase en pantalla.\n",
        "\n"
      ],
      "metadata": {
        "id": "0865lAcBug4y"
      }
    },
    {
      "cell_type": "code",
      "source": [
        "frase = input('Ingresa una frase:')\n",
        "print(frase)\n"
      ],
      "metadata": {
        "id": "Mdo9RX9IugDU",
        "outputId": "428e045f-ea8e-4c12-8e50-25a7b7590909",
        "colab": {
          "base_uri": "https://localhost:8080/"
        }
      },
      "execution_count": null,
      "outputs": [
        {
          "output_type": "stream",
          "name": "stdout",
          "text": [
            "Ingresa una frase:Aloha para todos\n",
            "Aloha para todos\n"
          ]
        }
      ]
    },
    {
      "cell_type": "markdown",
      "source": [
        "16 - Crea un código que solicite una frase al usuario y luego imprima la misma frase ingresada pero en mayúsculas.\n",
        "\n"
      ],
      "metadata": {
        "id": "UYRmcPhuuxDt"
      }
    },
    {
      "cell_type": "code",
      "source": [
        "frase = input('Ingresa una frase: ')\n",
        "print(frase.upper())"
      ],
      "metadata": {
        "id": "jNQl1SZButdG",
        "outputId": "eef2fb3e-ce6e-404c-8384-588a2a431df4",
        "colab": {
          "base_uri": "https://localhost:8080/"
        }
      },
      "execution_count": null,
      "outputs": [
        {
          "output_type": "stream",
          "name": "stdout",
          "text": [
            "Ingresa una frase: hola\n",
            "HOLA\n"
          ]
        }
      ]
    },
    {
      "cell_type": "markdown",
      "source": [
        "17 - Crea un código que solicite una frase al usuario y luego imprima la misma frase ingresada pero en minúsculas.\n",
        "\n"
      ],
      "metadata": {
        "id": "XF8Q31bovikQ"
      }
    },
    {
      "cell_type": "code",
      "source": [
        "frase = input('Ingresa una frase: ')\n",
        "print(frase.lower())"
      ],
      "metadata": {
        "id": "e7oF8-o8vSFs",
        "outputId": "e1386851-4a0c-41df-bd87-f739c073fe36",
        "colab": {
          "base_uri": "https://localhost:8080/"
        }
      },
      "execution_count": null,
      "outputs": [
        {
          "output_type": "stream",
          "name": "stdout",
          "text": [
            "Ingresa una frase: HOLA\n",
            "hola\n"
          ]
        }
      ]
    },
    {
      "cell_type": "markdown",
      "source": [
        "18 - Crea una variable llamada \"frase\" y asígnale una cadena de texto de tu elección. Luego, imprime la frase sin espacios en blanco al principio y al final.\n",
        "\n"
      ],
      "metadata": {
        "id": "HIMvB_MqvxuL"
      }
    },
    {
      "cell_type": "code",
      "source": [
        "frase = ' Aloha a todo el mundo '\n",
        "print(frase.strip())"
      ],
      "metadata": {
        "id": "G-zwdAY7vvuH",
        "outputId": "0ebf4934-de4c-45a5-c1c4-5e7b26f3134f",
        "colab": {
          "base_uri": "https://localhost:8080/"
        }
      },
      "execution_count": null,
      "outputs": [
        {
          "output_type": "stream",
          "name": "stdout",
          "text": [
            "Aloha a todo el mundo\n"
          ]
        }
      ]
    },
    {
      "cell_type": "markdown",
      "source": [
        "19 - Crea un código que solicite una frase al usuario y luego imprima la misma frase sin espacios en blanco al principio y al final.\n",
        "\n"
      ],
      "metadata": {
        "id": "MLbKKtyIwM8J"
      }
    },
    {
      "cell_type": "code",
      "source": [
        "frase = input('Ingresa una frase: ')\n",
        "print(frase.strip())"
      ],
      "metadata": {
        "id": "t09ZMNjgwHnM",
        "outputId": "f66e007a-f837-455e-ff86-f3a43b525676",
        "colab": {
          "base_uri": "https://localhost:8080/"
        }
      },
      "execution_count": null,
      "outputs": [
        {
          "output_type": "stream",
          "name": "stdout",
          "text": [
            "Ingresa una frase: Hola mundo\n",
            "Hola mundo\n"
          ]
        }
      ]
    },
    {
      "cell_type": "markdown",
      "source": [
        "20 - Crea un código que solicite una frase al usuario y luego imprima la misma frase sin espacios en blanco al principio y al final, además de convertirla a minúsculas.\n",
        "\n"
      ],
      "metadata": {
        "id": "YTbF8QxQxbRS"
      }
    },
    {
      "cell_type": "code",
      "source": [
        "frase = input('Ingresa una frase: ')\n",
        "print(frase.strip().lower())"
      ],
      "metadata": {
        "id": "qCyvdertwkGd",
        "outputId": "c6f19d35-b3f9-44d1-e483-91d21ef976e7",
        "colab": {
          "base_uri": "https://localhost:8080/"
        }
      },
      "execution_count": null,
      "outputs": [
        {
          "output_type": "stream",
          "name": "stdout",
          "text": [
            "Ingresa una frase: HOLA MUNDO\n",
            "hola mundo\n"
          ]
        }
      ]
    },
    {
      "cell_type": "markdown",
      "source": [
        "21 - Crea un código que solicite una frase al usuario y luego imprima la misma frase con todas las vocales \"e\" reemplazadas por la letra \"f\".\n",
        "\n"
      ],
      "metadata": {
        "id": "SqtFnX2TyG4I"
      }
    },
    {
      "cell_type": "code",
      "source": [
        "frase = input('Ingresa una frase:')\n",
        "print(frase.lower().replace('e', 'f'))"
      ],
      "metadata": {
        "id": "yRAKA5bjx3e-",
        "outputId": "86a9b680-77fb-40fb-8f32-a3518b36771c",
        "colab": {
          "base_uri": "https://localhost:8080/"
        }
      },
      "execution_count": 24,
      "outputs": [
        {
          "output_type": "stream",
          "name": "stdout",
          "text": [
            "Ingresa una frase:El arte de reemplazar\n",
            "fl artf df rffmplazar\n"
          ]
        }
      ]
    },
    {
      "cell_type": "markdown",
      "source": [
        "22 - Crea un código que solicite una frase al usuario y luego imprima la misma frase con todas las vocales \"a\" reemplazadas por el carácter \"@\".\n",
        "\n"
      ],
      "metadata": {
        "id": "MQUPN5o8ysXE"
      }
    },
    {
      "cell_type": "code",
      "source": [
        "frase = input('Ingresa una frase: ')\n",
        "print(frase.replace('a', '@'))"
      ],
      "metadata": {
        "id": "Ug8_mKZIyfmh",
        "outputId": "5ddefaba-bc84-419d-cfb1-91d84b5c7ceb",
        "colab": {
          "base_uri": "https://localhost:8080/"
        }
      },
      "execution_count": null,
      "outputs": [
        {
          "output_type": "stream",
          "name": "stdout",
          "text": [
            "Ingresa una frase: Cambiando a \n",
            "C@mbi@ndo @ \n"
          ]
        }
      ]
    },
    {
      "cell_type": "markdown",
      "source": [
        "23 - Crea un código que solicite una frase al usuario y luego imprima la misma frase con todas las consonantes \"s\" reemplazadas por el carácter \"$\".\n",
        "\n"
      ],
      "metadata": {
        "id": "PCB5Zs34zRYz"
      }
    },
    {
      "cell_type": "code",
      "source": [
        "frase = input('Ingresa una frase: ')\n",
        "print(frase.lower().replace('s', '$'))"
      ],
      "metadata": {
        "id": "EBUQNTVvzEOI",
        "outputId": "40f63c0e-a2cc-49f7-f102-e3aaecb5a5a4",
        "colab": {
          "base_uri": "https://localhost:8080/"
        }
      },
      "execution_count": null,
      "outputs": [
        {
          "output_type": "stream",
          "name": "stdout",
          "text": [
            "Ingresa una frase: las letras s seran cambiadas\n",
            "la$ letra$ $ $eran cambiada$\n"
          ]
        }
      ]
    }
  ]
}