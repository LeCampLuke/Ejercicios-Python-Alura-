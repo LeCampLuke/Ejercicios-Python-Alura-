{
  "nbformat": 4,
  "nbformat_minor": 0,
  "metadata": {
    "colab": {
      "provenance": [],
      "authorship_tag": "ABX9TyPMeHrAZY6hazcoMZs4ImGs",
      "include_colab_link": true
    },
    "kernelspec": {
      "name": "python3",
      "display_name": "Python 3"
    },
    "language_info": {
      "name": "python"
    }
  },
  "cells": [
    {
      "cell_type": "markdown",
      "metadata": {
        "id": "view-in-github",
        "colab_type": "text"
      },
      "source": [
        "<a href=\"https://colab.research.google.com/github/LeCampLuke/Ejercicios-Python-Alura-/blob/main/Ejercicios_Curso.ipynb\" target=\"_parent\"><img src=\"https://colab.research.google.com/assets/colab-badge.svg\" alt=\"Open In Colab\"/></a>"
      ]
    },
    {
      "cell_type": "markdown",
      "source": [
        "Practicar uso de la funcion 'print':\n",
        "\n",
        "1 - Imprime la frase \"Escuela de Datos de Alura\".\n",
        "\n",
        "2 - Imprime tu nombre y tu apellido siguiendo la estructura a continuación:\n",
        "\n",
        "    Nombre: [tu nombre]\n",
        "    Apellido: [tu apellido]\n",
        "\n",
        "3 - Imprime tu primer nombre letra por letra. Por ejemplo, si mi nombre es Álvaro, la salida sería:\n",
        "\n",
        "    Á\n",
        "    L\n",
        "    V\n",
        "    A\n",
        "    R\n",
        "    O\n",
        "\n",
        "4 - Imprime tu fecha de nacimiento en formato día mes año. Recuerda que los valores de día y año no deben estar entre comillas. Suponiendo una fecha de cumpleaños el 28 de febrero de 2003, el formato debe ser como el siguiente:\n",
        "\n",
        "    28 febrero 2003\n",
        "\n",
        "5 - Imprime, en una sola instrucción print, el año actual en el que estás realizando este curso. El valor del año debe ser un dato numérico, y la salida de print debe ser la siguiente:\n",
        "\n",
        "    Año actual: [año]"
      ],
      "metadata": {
        "id": "uMPfmAdkHOnL"
      }
    },
    {
      "cell_type": "markdown",
      "source": [
        "Resolucion:"
      ],
      "metadata": {
        "id": "JF5oIG4IJp3y"
      }
    },
    {
      "cell_type": "code",
      "execution_count": null,
      "metadata": {
        "colab": {
          "base_uri": "https://localhost:8080/"
        },
        "id": "87mepYNnHBXZ",
        "outputId": "b3a89918-ee45-4815-af78-48645a853ec5"
      },
      "outputs": [
        {
          "output_type": "stream",
          "name": "stdout",
          "text": [
            "Escuela de Datos de Alura\n"
          ]
        }
      ],
      "source": [
        "print('Escuela de Datos de Alura')"
      ]
    },
    {
      "cell_type": "code",
      "source": [
        "print('Nombre: Lucas')\n",
        "print('Apellido: Lequepi')"
      ],
      "metadata": {
        "colab": {
          "base_uri": "https://localhost:8080/"
        },
        "id": "gCEOsW12J7LM",
        "outputId": "f10ddb0f-d83f-4a23-c84a-9b44425a7dab"
      },
      "execution_count": null,
      "outputs": [
        {
          "output_type": "stream",
          "name": "stdout",
          "text": [
            "Nombre: Lucas\n",
            "Apellido: Lequepi\n"
          ]
        }
      ]
    },
    {
      "cell_type": "code",
      "source": [
        "print('L')\n",
        "print('U')\n",
        "print('C')\n",
        "print('A')\n",
        "print('S')\n",
        "print(' ')\n",
        "print('L')\n",
        "print('E')\n",
        "print('Q')\n",
        "print('U')\n",
        "print('E')\n",
        "print('P')\n",
        "print('I')"
      ],
      "metadata": {
        "colab": {
          "base_uri": "https://localhost:8080/"
        },
        "id": "Wl_cJEbRdtN9",
        "outputId": "b903f6b9-1708-4d3c-b59f-cf2ec376cd01"
      },
      "execution_count": null,
      "outputs": [
        {
          "output_type": "stream",
          "name": "stdout",
          "text": [
            "L\n",
            "U\n",
            "C\n",
            "A\n",
            "S\n",
            " \n",
            "L\n",
            "E\n",
            "Q\n",
            "U\n",
            "E\n",
            "P\n",
            "I\n"
          ]
        }
      ]
    },
    {
      "cell_type": "code",
      "source": [
        "print(26, 'diciembre', 1990)"
      ],
      "metadata": {
        "colab": {
          "base_uri": "https://localhost:8080/"
        },
        "id": "Z_pA-jQreuux",
        "outputId": "cbf14391-dd2e-4062-ed0d-0cec39505239"
      },
      "execution_count": null,
      "outputs": [
        {
          "output_type": "stream",
          "name": "stdout",
          "text": [
            "26 diciembre 1990\n"
          ]
        }
      ]
    },
    {
      "cell_type": "code",
      "source": [
        "print('Año actual:', 2025)"
      ],
      "metadata": {
        "colab": {
          "base_uri": "https://localhost:8080/"
        },
        "id": "ugyR08aHfTT3",
        "outputId": "b202cbe3-a063-4aa7-9dd3-56200cdfe878"
      },
      "execution_count": null,
      "outputs": [
        {
          "output_type": "stream",
          "name": "stdout",
          "text": [
            "Año actual: 2025\n"
          ]
        }
      ]
    },
    {
      "cell_type": "markdown",
      "source": [
        "Recopilación y muestra de datos\n",
        "\n",
        "1 - Crea un programa que solicite al usuario que escriba su nombre y luego imprima \"Hola, [nombre].\"\n",
        "\n",
        "2 - Crea un programa que solicite al usuario que escriba su nombre y edad, y luego imprima \"Hola, [nombre], tienes [edad] años.\"\n",
        "\n",
        "3 - Crea un programa que solicite al usuario que escriba su nombre, edad y altura en metros, y luego imprima \"Hola, [nombre], tienes [edad] años y mides [altura] metros.\"\n",
        "\n",
        "Calculadora con operadores\n",
        "\n",
        "4 - Crea un programa que solicite dos valores numéricos al usuario y luego imprima la suma de ambos valores.\n",
        "\n",
        "5 - Crea un programa que solicite tres valores numéricos al usuario y luego imprima la suma de los tres valores.\n",
        "\n",
        "6 - Crea un programa que solicite dos valores numéricos al usuario y luego imprima la resta del primero menos el segundo valor.\n",
        "\n",
        "7 - Crea un programa que solicite dos valores numéricos al usuario y luego imprima la multiplicación de los dos valores.\n",
        "\n",
        "8 - Crea un programa que solicite dos valores numéricos, un numerador y un denominador, y realice la división entre los dos valores. Asegúrate de que el valor del denominador no sea igual a 0.\n",
        "\n",
        "9 - Crea un programa que solicite dos valores numéricos, un operador y una potencia, y realice la exponenciación entre estos dos valores.\n",
        "\n",
        "10 - Crea un programa que solicite dos valores numéricos, un numerador y un denominador, y realice la división entera entre los dos valores. Asegúrate de que el valor del denominador no sea igual a 0.\n",
        "\n",
        "11 - Crea un programa que solicite dos valores numéricos, un numerador y un denominador, y devuelva el resto de la división entre los dos valores. Asegúrate de que el valor del denominador no sea igual a 0.\n",
        "\n",
        "12 - Crea un código que solicite las 3 notas de un estudiante e imprima el promedio de las notas.\n",
        "\n",
        "13 - Crea un código que calcule e imprima el promedio ponderado de los números 5, 12, 20 y 15 con pesos respectivamente iguales a 1, 2, 3 y 4.\n",
        "\n",
        "Editando textos\n",
        "\n",
        "14 - Crea una variable llamada \"frase\" y asígnale una cadena de texto de tu elección. Luego, imprime la frase en pantalla.\n",
        "\n",
        "15 - Crea un código que solicite una frase y luego imprima la frase en pantalla.\n",
        "\n",
        "16 - Crea un código que solicite una frase al usuario y luego imprima la misma frase ingresada pero en mayúsculas.\n",
        "\n",
        "17 - Crea un código que solicite una frase al usuario y luego imprima la misma frase ingresada pero en minúsculas.\n",
        "\n",
        "18 - Crea una variable llamada \"frase\" y asígnale una cadena de texto de tu elección. Luego, imprime la frase sin espacios en blanco al principio y al final.\n",
        "\n",
        "19 - Crea un código que solicite una frase al usuario y luego imprima la misma frase sin espacios en blanco al principio y al final.\n",
        "\n",
        "20 - Crea un código que solicite una frase al usuario y luego imprima la misma frase sin espacios en blanco al principio y al final, además de convertirla a minúsculas.\n",
        "\n",
        "21 - Crea un código que solicite una frase al usuario y luego imprima la misma frase con todas las vocales \"e\" reemplazadas por la letra \"f\".\n",
        "\n",
        "22 - Crea un código que solicite una frase al usuario y luego imprima la misma frase con todas las vocales \"a\" reemplazadas por el carácter \"@\".\n",
        "\n",
        "23 - Crea un código que solicite una frase al usuario y luego imprima la misma frase con todas las consonantes \"s\" reemplazadas por el carácter \"$\"."
      ],
      "metadata": {
        "id": "JtuFzTGpPpzQ"
      }
    },
    {
      "cell_type": "markdown",
      "source": [
        "1 - Crea un programa que solicite al usuario que escriba su nombre y luego imprima \"Hola, [nombre].\"\n",
        "\n"
      ],
      "metadata": {
        "id": "j_lCvOOpP2tn"
      }
    },
    {
      "cell_type": "code",
      "source": [
        "nombre = input('Ingresa tu nombre:')\n",
        "print(f'Hola,', nombre)"
      ],
      "metadata": {
        "colab": {
          "base_uri": "https://localhost:8080/"
        },
        "id": "5drQzNgiP6Ff",
        "outputId": "a12ac72e-fc2c-4e8f-fc63-2fd7c37d19ec"
      },
      "execution_count": null,
      "outputs": [
        {
          "output_type": "stream",
          "name": "stdout",
          "text": [
            "Ingresa tu nombre:Lucas\n",
            "Hola, Lucas\n"
          ]
        }
      ]
    },
    {
      "cell_type": "markdown",
      "source": [
        "2 - Crea un programa que solicite al usuario que escriba su nombre y edad, y luego imprima \"Hola, [nombre], tienes [edad] años.\""
      ],
      "metadata": {
        "id": "30zzs0yIQz4O"
      }
    },
    {
      "cell_type": "code",
      "source": [
        "nombre = input('Ingresa tu nombre:')\n",
        "edad = int(input('Ingresa tu edad:'))\n",
        "print(f'Hola {nombre}, tienes {edad} años.')\n"
      ],
      "metadata": {
        "colab": {
          "base_uri": "https://localhost:8080/"
        },
        "id": "ICq_xqaZQtbd",
        "outputId": "8be5002d-4a25-4455-843f-f7b867f61012"
      },
      "execution_count": null,
      "outputs": [
        {
          "output_type": "stream",
          "name": "stdout",
          "text": [
            "Ingresa tu nombre:Lucas\n",
            "Ingresa tu edad:34\n",
            "Hola Lucas, tienes 34 años\n"
          ]
        }
      ]
    },
    {
      "cell_type": "markdown",
      "source": [
        "3 - Crea un programa que solicite al usuario que escriba su nombre, edad y altura en metros, y luego imprima \"Hola, [nombre], tienes [edad] años y mides [altura] metros.\"\n",
        "\n"
      ],
      "metadata": {
        "id": "H0XCeGJQSXx_"
      }
    },
    {
      "cell_type": "code",
      "source": [
        "nombre = input('Ingresa tu nombre: ')\n",
        "edad = int(input('Ingresa tu edad: '))\n",
        "altura = float(input('Ingresa tu altura: '))\n",
        "print(f'Hola, {nombre}, tienes {edad} años y mides {altura} metros.')"
      ],
      "metadata": {
        "colab": {
          "base_uri": "https://localhost:8080/"
        },
        "id": "XXHJI8LURVXO",
        "outputId": "56658d5c-9b3d-4959-a844-a8cb3cc4e4db"
      },
      "execution_count": null,
      "outputs": [
        {
          "output_type": "stream",
          "name": "stdout",
          "text": [
            "Ingresa tu nombre:Lucas\n",
            "Ingresa tu edad:34\n",
            "Ingresa tu altura1.80\n",
            "Hola, Lucas, tienes 34 años y mides 1.8 metros.\n"
          ]
        }
      ]
    },
    {
      "cell_type": "markdown",
      "source": [
        "Calculadora con operadores\n",
        "\n"
      ],
      "metadata": {
        "id": "AMcBfDNITpk-"
      }
    },
    {
      "cell_type": "markdown",
      "source": [
        "4 - Crea un programa que solicite dos valores numéricos al usuario y luego imprima la suma de ambos valores."
      ],
      "metadata": {
        "id": "uPX4O_DaTsye"
      }
    },
    {
      "cell_type": "code",
      "source": [
        "x = int(input('Ingresa número:'))\n",
        "y = int(input('Ingresa otro número:'))\n",
        "print(f'La suma de {x} y {y} es {int(x) + int(y)}')"
      ],
      "metadata": {
        "colab": {
          "base_uri": "https://localhost:8080/"
        },
        "id": "DOC0ZlJ6TUh5",
        "outputId": "98796338-762b-4b30-e226-9dd771c98473"
      },
      "execution_count": null,
      "outputs": [
        {
          "output_type": "stream",
          "name": "stdout",
          "text": [
            "Ingresa número:4\n",
            "Ingresa otro número:6\n",
            "La suma de 4 y 6 es 10\n"
          ]
        }
      ]
    },
    {
      "cell_type": "markdown",
      "source": [
        "5 - Crea un programa que solicite tres valores numéricos al usuario y luego imprima la suma de los tres valores.\n",
        "\n"
      ],
      "metadata": {
        "id": "R58Dyd_0V6je"
      }
    },
    {
      "cell_type": "code",
      "source": [
        "x = int(input('Ingrasa numero:'))\n",
        "y = int(input('Ingresa otro numero:'))\n",
        "z = int(input('Ingresa ultimo numero:'))\n",
        "resultado = x + y + z\n",
        "print(f'La suma de los 3 valores es: {resultado}')"
      ],
      "metadata": {
        "colab": {
          "base_uri": "https://localhost:8080/"
        },
        "id": "tqYW8KoNV8dl",
        "outputId": "d5a4cced-3bf0-452d-e235-660d28636bb4"
      },
      "execution_count": null,
      "outputs": [
        {
          "output_type": "stream",
          "name": "stdout",
          "text": [
            "Ingrasa numero:5\n",
            "Ingresa otro numero:5\n",
            "Ingresa ultimo numero:5\n",
            "La suma de los 3 valores es: 15\n"
          ]
        }
      ]
    },
    {
      "cell_type": "markdown",
      "source": [
        "6 - Crea un programa que solicite dos valores numéricos al usuario y luego imprima la resta del primero menos el segundo valor.\n",
        "\n"
      ],
      "metadata": {
        "id": "tA3IPSfuZzS1"
      }
    },
    {
      "cell_type": "code",
      "source": [
        "x = int(input('Ingresa numero:'))\n",
        "y = int(input('Ingresa numero:'))\n",
        "print(f'La resta de {x} menos {y} es: {x - y}')"
      ],
      "metadata": {
        "colab": {
          "base_uri": "https://localhost:8080/"
        },
        "id": "HGLsCCS-XZ6i",
        "outputId": "0e1541b9-52d3-4f3e-c02e-5b3bec34de85"
      },
      "execution_count": null,
      "outputs": [
        {
          "output_type": "stream",
          "name": "stdout",
          "text": [
            "Ingresa numero:5\n",
            "Ingresa numero:2\n",
            "La resta de 5 menos 2 es: 3\n"
          ]
        }
      ]
    },
    {
      "cell_type": "markdown",
      "source": [
        "7 - Crea un programa que solicite dos valores numéricos al usuario y luego imprima la multiplicación de los dos valores.\n",
        "\n"
      ],
      "metadata": {
        "id": "Pd9HUEU-a-Hl"
      }
    },
    {
      "cell_type": "code",
      "source": [
        "x = int(input('Ingresa numero:'))\n",
        "y = int(input('Ingresa otro numero:'))\n",
        "print(f'La multiplicacion de {x} por {y} es: {x * y}')"
      ],
      "metadata": {
        "colab": {
          "base_uri": "https://localhost:8080/"
        },
        "id": "i6IX_Z3TaWFZ",
        "outputId": "e5ca831e-5591-4879-9637-5865bbc7e691"
      },
      "execution_count": null,
      "outputs": [
        {
          "output_type": "stream",
          "name": "stdout",
          "text": [
            "Ingresa numero:5\n",
            "Ingresa otro numero:5\n",
            "La multiplicacion de 5 por 5 es: 25\n"
          ]
        }
      ]
    },
    {
      "cell_type": "markdown",
      "source": [
        "8 - Crea un programa que solicite dos valores numéricos, un numerador y un denominador, y realice la división entre los dos valores. Asegúrate de que el valor del denominador no sea igual a 0.\n",
        "\n"
      ],
      "metadata": {
        "id": "x2bvSs9Wbk6_"
      }
    },
    {
      "cell_type": "code",
      "source": [
        "numerador = int(input('Ingresa numerador:'))\n",
        "denominador = int(input('Ingresa denominador:'))\n",
        "if int(denominador) != 0:\n",
        "    print(f'La division de {numerador} entre el {denominador} es: {numerador / denominador}')\n",
        "else:\n",
        "    print('Error: El denominador no puede ser cero.')"
      ],
      "metadata": {
        "colab": {
          "base_uri": "https://localhost:8080/"
        },
        "id": "0fQCBMVubgc1",
        "outputId": "17c5d4ae-1341-4071-d2e4-86d6805625c9"
      },
      "execution_count": null,
      "outputs": [
        {
          "output_type": "stream",
          "name": "stdout",
          "text": [
            "Ingresa numerador:15\n",
            "Ingresa denominador:3\n",
            "La division de 15 entre el 3 es: 5.0\n"
          ]
        }
      ]
    },
    {
      "cell_type": "code",
      "source": [
        "numerador = int(input('Ingresa numerador: '))\n",
        "denominador = int(input('Ingresa denominador (OBS: el valor no puede ser nulo): '))\n",
        "print(numerador / denominador)"
      ],
      "metadata": {
        "id": "SOF7SnNYI4jK",
        "outputId": "ded4e6af-74d0-44f7-ea41-17cffc311cd3",
        "colab": {
          "base_uri": "https://localhost:8080/"
        }
      },
      "execution_count": null,
      "outputs": [
        {
          "output_type": "stream",
          "name": "stdout",
          "text": [
            "Ingresa numerador: 15\n",
            "Ingresa denominador (OBS: el valor no puede ser nulo): 3\n",
            "5.0\n"
          ]
        }
      ]
    },
    {
      "cell_type": "markdown",
      "source": [
        "9 - Crea un programa que solicite dos valores numéricos, un operador y una potencia, y realice la exponenciación entre estos dos valores.\n",
        "\n"
      ],
      "metadata": {
        "id": "ak9dXed_fHt9"
      }
    },
    {
      "cell_type": "code",
      "source": [
        "x = int(input('Ingresa numero:'))\n",
        "y = int(input('Ingresa la potencia:'))\n",
        "print(f'{x} elevado a la {y} es: {x ** y}')"
      ],
      "metadata": {
        "colab": {
          "base_uri": "https://localhost:8080/"
        },
        "id": "o1bmWBTlfF_F",
        "outputId": "5d87ae36-2bfd-42c1-bc48-e836afc11716"
      },
      "execution_count": null,
      "outputs": [
        {
          "output_type": "stream",
          "name": "stdout",
          "text": [
            "Ingresa numero:3\n",
            "Ingresa la potencia:3\n",
            "3 elevado a la 3 es: 27\n"
          ]
        }
      ]
    },
    {
      "cell_type": "markdown",
      "source": [
        "10 - Crea un programa que solicite dos valores numéricos, un numerador y un denominador, y realice la división entera entre los dos valores. Asegúrate de que el valor del denominador no sea igual a 0.\n",
        "\n"
      ],
      "metadata": {
        "id": "r67P3TPbgUCn"
      }
    },
    {
      "cell_type": "code",
      "source": [
        "x = int(input('Ingresa numerador:'))\n",
        "y = int(input('Ingresa denominador:'))\n",
        "if int(y) !=0:\n",
        "  print(f'La division entera de {x} y {y} es {x // y}')\n",
        "else:\n",
        "  print('Error: El denominador no puede ser cero.')"
      ],
      "metadata": {
        "colab": {
          "base_uri": "https://localhost:8080/"
        },
        "id": "DGCLNLcdgKUf",
        "outputId": "6858491b-848b-4efe-c536-b1c3b2325086"
      },
      "execution_count": null,
      "outputs": [
        {
          "output_type": "stream",
          "name": "stdout",
          "text": [
            "Ingresa numerador:10\n",
            "Ingresa denominador:5\n",
            "La division entera de 10 y 5 es 2\n"
          ]
        }
      ]
    },
    {
      "cell_type": "code",
      "source": [
        "numerador = int(input('Ingrese el numerador: '))\n",
        "denominador = int(input('Ingrese el denominador (OBS: el valor no puede ser nulo): '))\n",
        "print(numerador // denominador)"
      ],
      "metadata": {
        "id": "cy7f7mDtRbTV",
        "outputId": "c698dc72-8d1c-4f71-a1c9-2d0e61d63a95",
        "colab": {
          "base_uri": "https://localhost:8080/"
        }
      },
      "execution_count": null,
      "outputs": [
        {
          "output_type": "stream",
          "name": "stdout",
          "text": [
            "Ingrese el numerador: 10\n",
            "Ingrese el denominador (OBS: el valor no puede ser nulo): 5\n",
            "2\n"
          ]
        }
      ]
    },
    {
      "cell_type": "markdown",
      "source": [
        "11 - Crea un programa que solicite dos valores numéricos, un numerador y un denominador, y devuelva el resto de la división entre los dos valores. Asegúrate de que el valor del denominador no sea igual a 0.\n",
        "\n"
      ],
      "metadata": {
        "id": "UpplKYuQhYbO"
      }
    },
    {
      "cell_type": "code",
      "source": [
        "x = int(input('Ingresa numerador:'))\n",
        "y = int(input('Ingresa denominador:'))\n",
        "if int(y) !=0:\n",
        "  print(f'El resto de la division de {x} y {y} es {x % y}')\n",
        "else:\n",
        "    print('Error: El denominador no puede ser cero.')"
      ],
      "metadata": {
        "colab": {
          "base_uri": "https://localhost:8080/"
        },
        "id": "0SiIRXZVg9pe",
        "outputId": "986a9365-9d35-4ced-fd65-8e06e874eb6a"
      },
      "execution_count": null,
      "outputs": [
        {
          "output_type": "stream",
          "name": "stdout",
          "text": [
            "Ingresa numerador:10\n",
            "Ingresa denominador:5\n",
            "El resto de la division de 10 y 5 es 0\n"
          ]
        }
      ]
    },
    {
      "cell_type": "markdown",
      "source": [
        "12 - Crea un código que solicite las 3 notas de un estudiante e imprima el promedio de las notas.\n",
        "\n"
      ],
      "metadata": {
        "id": "-p6m9LGtppnU"
      }
    },
    {
      "cell_type": "code",
      "source": [
        "x = float(input('Ingresa nota 1:'))\n",
        "y = float(input('Ingresa nota 2:'))\n",
        "z = float(input('Ingresa nota 3:'))\n",
        "print(f'El promedio del alumno es: {(x + y + z) / 3}')"
      ],
      "metadata": {
        "colab": {
          "base_uri": "https://localhost:8080/"
        },
        "id": "rE4gX-zGjRTm",
        "outputId": "52350573-0775-4139-921c-5baf4826acff"
      },
      "execution_count": null,
      "outputs": [
        {
          "output_type": "stream",
          "name": "stdout",
          "text": [
            "Ingresa nota 1:7\n",
            "Ingresa nota 2:6.5\n",
            "Ingresa nota 3:6\n",
            "El promedio del alumno es: 6.5\n"
          ]
        }
      ]
    },
    {
      "cell_type": "markdown",
      "source": [
        "13 - Crea un código que calcule e imprima el promedio ponderado de los números 5, 12, 20 y 15 con pesos respectivamente iguales a 1, 2, 3 y 4.\n",
        "\n"
      ],
      "metadata": {
        "id": "6wywvVJuqmZ0"
      }
    },
    {
      "cell_type": "code",
      "source": [
        "numero_1 = 5\n",
        "numero_2 = 12\n",
        "numero_3 = 20\n",
        "numero_4 = 15\n",
        "peso_1 = 1\n",
        "peso_2 = 2\n",
        "peso_3 = 3\n",
        "peso_4 = 4\n",
        "print(f'El promedio ponderado es: {(numero_1 * peso_1 + numero_2 * peso_2 + numero_3 * peso_3 + numero_4 * peso_4) / (peso_1 + peso_2 + peso_3 + peso_4)}')"
      ],
      "metadata": {
        "id": "dINvuAiaqFX8",
        "outputId": "de4de61b-c741-4581-e492-aba6d43eb927",
        "colab": {
          "base_uri": "https://localhost:8080/"
        }
      },
      "execution_count": null,
      "outputs": [
        {
          "output_type": "stream",
          "name": "stdout",
          "text": [
            "El promedio ponderado es: 14.9\n"
          ]
        }
      ]
    },
    {
      "cell_type": "code",
      "source": [
        "media_ponderada = (5*1 + 12*2 + 20*3 + 15*4) / (1+2+3+4)\n",
        "print(f'Media {media_ponderada}.')"
      ],
      "metadata": {
        "id": "iKtQU1dQSfWz",
        "outputId": "08f8d317-4601-4900-ea70-b62c51d56a9f",
        "colab": {
          "base_uri": "https://localhost:8080/"
        }
      },
      "execution_count": null,
      "outputs": [
        {
          "output_type": "stream",
          "name": "stdout",
          "text": [
            "Media 14.9.\n"
          ]
        }
      ]
    },
    {
      "cell_type": "markdown",
      "source": [
        "Editando textos"
      ],
      "metadata": {
        "id": "hBuN3XtXt9Z5"
      }
    },
    {
      "cell_type": "markdown",
      "source": [
        "14 - Crea una variable llamada \"frase\" y asígnale una cadena de texto de tu elección. Luego, imprime la frase en pantalla.\n",
        "\n"
      ],
      "metadata": {
        "id": "e57N43iiuA2S"
      }
    },
    {
      "cell_type": "code",
      "source": [
        "frase = ('Hola, soy el Barto')\n",
        "print(frase)"
      ],
      "metadata": {
        "id": "ARtyguJdtZoE",
        "outputId": "f13d0709-5e5c-4d09-cb1c-08441e75d70b",
        "colab": {
          "base_uri": "https://localhost:8080/"
        }
      },
      "execution_count": null,
      "outputs": [
        {
          "output_type": "stream",
          "name": "stdout",
          "text": [
            "Hola, soy el Barto\n"
          ]
        }
      ]
    },
    {
      "cell_type": "markdown",
      "source": [
        "15 - Crea un código que solicite una frase y luego imprima la frase en pantalla.\n",
        "\n"
      ],
      "metadata": {
        "id": "0865lAcBug4y"
      }
    },
    {
      "cell_type": "code",
      "source": [
        "frase = input('Ingresa una frase:')\n",
        "print(frase)\n"
      ],
      "metadata": {
        "id": "Mdo9RX9IugDU",
        "outputId": "428e045f-ea8e-4c12-8e50-25a7b7590909",
        "colab": {
          "base_uri": "https://localhost:8080/"
        }
      },
      "execution_count": null,
      "outputs": [
        {
          "output_type": "stream",
          "name": "stdout",
          "text": [
            "Ingresa una frase:Aloha para todos\n",
            "Aloha para todos\n"
          ]
        }
      ]
    },
    {
      "cell_type": "markdown",
      "source": [
        "16 - Crea un código que solicite una frase al usuario y luego imprima la misma frase ingresada pero en mayúsculas.\n",
        "\n"
      ],
      "metadata": {
        "id": "UYRmcPhuuxDt"
      }
    },
    {
      "cell_type": "code",
      "source": [
        "frase = input('Ingresa una frase: ')\n",
        "print(frase.upper())"
      ],
      "metadata": {
        "id": "jNQl1SZButdG",
        "outputId": "eef2fb3e-ce6e-404c-8384-588a2a431df4",
        "colab": {
          "base_uri": "https://localhost:8080/"
        }
      },
      "execution_count": null,
      "outputs": [
        {
          "output_type": "stream",
          "name": "stdout",
          "text": [
            "Ingresa una frase: hola\n",
            "HOLA\n"
          ]
        }
      ]
    },
    {
      "cell_type": "markdown",
      "source": [
        "17 - Crea un código que solicite una frase al usuario y luego imprima la misma frase ingresada pero en minúsculas.\n",
        "\n"
      ],
      "metadata": {
        "id": "XF8Q31bovikQ"
      }
    },
    {
      "cell_type": "code",
      "source": [
        "frase = input('Ingresa una frase: ')\n",
        "print(frase.lower())"
      ],
      "metadata": {
        "id": "e7oF8-o8vSFs",
        "outputId": "e1386851-4a0c-41df-bd87-f739c073fe36",
        "colab": {
          "base_uri": "https://localhost:8080/"
        }
      },
      "execution_count": null,
      "outputs": [
        {
          "output_type": "stream",
          "name": "stdout",
          "text": [
            "Ingresa una frase: HOLA\n",
            "hola\n"
          ]
        }
      ]
    },
    {
      "cell_type": "markdown",
      "source": [
        "18 - Crea una variable llamada \"frase\" y asígnale una cadena de texto de tu elección. Luego, imprime la frase sin espacios en blanco al principio y al final.\n",
        "\n"
      ],
      "metadata": {
        "id": "HIMvB_MqvxuL"
      }
    },
    {
      "cell_type": "code",
      "source": [
        "frase = ' Aloha a todo el mundo '\n",
        "print(frase.strip())"
      ],
      "metadata": {
        "id": "G-zwdAY7vvuH",
        "outputId": "0ebf4934-de4c-45a5-c1c4-5e7b26f3134f",
        "colab": {
          "base_uri": "https://localhost:8080/"
        }
      },
      "execution_count": null,
      "outputs": [
        {
          "output_type": "stream",
          "name": "stdout",
          "text": [
            "Aloha a todo el mundo\n"
          ]
        }
      ]
    },
    {
      "cell_type": "markdown",
      "source": [
        "19 - Crea un código que solicite una frase al usuario y luego imprima la misma frase sin espacios en blanco al principio y al final.\n",
        "\n"
      ],
      "metadata": {
        "id": "MLbKKtyIwM8J"
      }
    },
    {
      "cell_type": "code",
      "source": [
        "frase = input('Ingresa una frase: ')\n",
        "print(frase.strip())"
      ],
      "metadata": {
        "id": "t09ZMNjgwHnM",
        "outputId": "f66e007a-f837-455e-ff86-f3a43b525676",
        "colab": {
          "base_uri": "https://localhost:8080/"
        }
      },
      "execution_count": null,
      "outputs": [
        {
          "output_type": "stream",
          "name": "stdout",
          "text": [
            "Ingresa una frase: Hola mundo\n",
            "Hola mundo\n"
          ]
        }
      ]
    },
    {
      "cell_type": "markdown",
      "source": [
        "20 - Crea un código que solicite una frase al usuario y luego imprima la misma frase sin espacios en blanco al principio y al final, además de convertirla a minúsculas.\n",
        "\n"
      ],
      "metadata": {
        "id": "YTbF8QxQxbRS"
      }
    },
    {
      "cell_type": "code",
      "source": [
        "frase = input('Ingresa una frase: ')\n",
        "print(frase.strip().lower())"
      ],
      "metadata": {
        "id": "qCyvdertwkGd",
        "outputId": "c6f19d35-b3f9-44d1-e483-91d21ef976e7",
        "colab": {
          "base_uri": "https://localhost:8080/"
        }
      },
      "execution_count": null,
      "outputs": [
        {
          "output_type": "stream",
          "name": "stdout",
          "text": [
            "Ingresa una frase: HOLA MUNDO\n",
            "hola mundo\n"
          ]
        }
      ]
    },
    {
      "cell_type": "markdown",
      "source": [
        "21 - Crea un código que solicite una frase al usuario y luego imprima la misma frase con todas las vocales \"e\" reemplazadas por la letra \"f\".\n",
        "\n"
      ],
      "metadata": {
        "id": "SqtFnX2TyG4I"
      }
    },
    {
      "cell_type": "code",
      "source": [
        "frase = input('Ingresa una frase:')\n",
        "print(frase.lower().replace('e', 'f'))"
      ],
      "metadata": {
        "id": "yRAKA5bjx3e-",
        "outputId": "86a9b680-77fb-40fb-8f32-a3518b36771c",
        "colab": {
          "base_uri": "https://localhost:8080/"
        }
      },
      "execution_count": null,
      "outputs": [
        {
          "output_type": "stream",
          "name": "stdout",
          "text": [
            "Ingresa una frase:El arte de reemplazar\n",
            "fl artf df rffmplazar\n"
          ]
        }
      ]
    },
    {
      "cell_type": "markdown",
      "source": [
        "22 - Crea un código que solicite una frase al usuario y luego imprima la misma frase con todas las vocales \"a\" reemplazadas por el carácter \"@\".\n",
        "\n"
      ],
      "metadata": {
        "id": "MQUPN5o8ysXE"
      }
    },
    {
      "cell_type": "code",
      "source": [
        "frase = input('Ingresa una frase: ')\n",
        "print(frase.replace('a', '@'))"
      ],
      "metadata": {
        "id": "Ug8_mKZIyfmh",
        "outputId": "5ddefaba-bc84-419d-cfb1-91d84b5c7ceb",
        "colab": {
          "base_uri": "https://localhost:8080/"
        }
      },
      "execution_count": null,
      "outputs": [
        {
          "output_type": "stream",
          "name": "stdout",
          "text": [
            "Ingresa una frase: Cambiando a \n",
            "C@mbi@ndo @ \n"
          ]
        }
      ]
    },
    {
      "cell_type": "markdown",
      "source": [
        "23 - Crea un código que solicite una frase al usuario y luego imprima la misma frase con todas las consonantes \"s\" reemplazadas por el carácter \"$\".\n",
        "\n"
      ],
      "metadata": {
        "id": "PCB5Zs34zRYz"
      }
    },
    {
      "cell_type": "code",
      "source": [
        "frase = input('Ingresa una frase: ')\n",
        "print(frase.lower().replace('s', '$'))"
      ],
      "metadata": {
        "id": "EBUQNTVvzEOI",
        "outputId": "40f63c0e-a2cc-49f7-f102-e3aaecb5a5a4",
        "colab": {
          "base_uri": "https://localhost:8080/"
        }
      },
      "execution_count": null,
      "outputs": [
        {
          "output_type": "stream",
          "name": "stdout",
          "text": [
            "Ingresa una frase: las letras s seran cambiadas\n",
            "la$ letra$ $ $eran cambiada$\n"
          ]
        }
      ]
    },
    {
      "cell_type": "markdown",
      "source": [
        "Vamos practicar el uso de estructuras condicionales como el if, else y elif a través de algunas actividades. Ahora que estamos avanzando en los contenidos, podemos hacer los desafíos más interesantes: ¡trabajaremos en proyectos de código! Resuelve los problemas iniciales para prepararte para los proyectos:\n",
        "\n",
        "Entrenando la programación\n",
        "\n",
        "1 - Escribe un programa que pida a la persona usuaria que proporcione dos números y muestre el número más grande.\n",
        "\n",
        "2 - Escribe un programa que solicite el porcentaje de crecimiento de producción de una empresa e informe si hubo un crecimiento (porcentaje positivo) o una disminución (porcentaje negativo).\n",
        "\n",
        "3 - Escribe un programa que determine si una letra proporcionada por la persona usuaria es una vocal o una consonante.\n",
        "\n",
        "4 - Escribe un programa que lea valores promedio de precios de un modelo de automóvil durante 3 años consecutivos y muestre el valor más alto y más bajo entre esos tres años.\n",
        "\n",
        "5 - Escribe un programa que pregunte sobre el precio de tres productos e indique cuál es el producto más barato para comprar.\n",
        "\n",
        "6 - Escribe un programa que lea tres números y los muestre en orden descendente.\n",
        "\n",
        "7 -Escribe un programa que pregunte en qué turno estudia la persona usuaria (\"mañana\", \"tarde\" o \"noche\") y muestre el mensaje \"¡Buenos Días!\", \"¡Buenas Tardes!\", \"¡Buenas Noches!\" o \"Valor Inválido!\", según el caso.\n",
        "\n",
        "8 - Escribe un programa que solicite un número entero a la persona usuaria y determine si es par o impar. Pista: Puedes usar el operador módulo (%).\n",
        "\n",
        "9 - Escribe un programa que pida un número a la persona usuaria y le informe si es entero o decimal.\n",
        "\n",
        "Momento de los proyectos\n",
        "\n",
        "10 - Un programa debe ser escrito para leer dos números y luego preguntar a la persona usuaria qué operación desea realizar. El resultado de la operación debe incluir información sobre el número, si es par o impar, positivo o negativo, e entero o decimal.\n",
        "\n",
        "11 - Escribe un programa que pida a la persona usuaria tres números que representan los lados de un triángulo. El programa debe informar si los valores pueden utilizarse para formar un triángulo y, en caso afirmativo, si es equilátero, isósceles o escaleno. Ten en cuenta algunas sugerencias:\n",
        "\n",
        "Tres lados forman un triángulo cuando la suma de cualesquiera dos lados es mayor que el tercero;\n",
        "Triángulo Equilátero: tres lados iguales;\n",
        "Triángulo Isósceles: dos lados iguales;\n",
        "Triángulo Escaleno: tres lados diferentes.\n",
        "12 - Un establecimiento está vendiendo combustibles con descuentos variables. Para el etanol, si la cantidad comprada es de hasta 15 litros, el descuento será del 2% por litro. En caso contrario, será del 4% por litro. Para el diésel, si la cantidad comprada es de hasta 15 litros, el descuento será del 3% por litro. En caso contrario, será del 5% por litro. El precio por litro de diésel es de R$ 2,00 y el precio por litro de etanol es de R$ 1,70. Escribe un programa que lea la cantidad de litros vendidos y el tipo de combustible (E para etanol y D para diésel) y calcule el valor a pagar por el cliente. Ten en cuenta algunas sugerencias:\n",
        "\n",
        "El valor del descuento será el producto del precio por litro, la cantidad de litros y el valor del descuento.\n",
        "El valor a pagar por un cliente será el resultado de la multiplicación del precio por litro por la cantidad de litros menos el valor del descuento resultante del cálculo.\n",
        "13 - En una empresa de venta de bienes raíces, debes crear un código que analice los datos de ventas anuales para ayudar a la dirección en la toma de decisiones. El código debe recopilar los datos de cantidad de ventas durante los años 2022 y 2023 y calcular la variación porcentual. A partir del valor de la variación, se deben proporcionar las siguientes sugerencias:\n",
        "\n",
        "Para una variación superior al 20%: bonificación para el equipo de ventas.\n",
        "Para una variación entre el 2% y el 20%: pequeña bonificación para el equipo de ventas.\n",
        "Para una variación entre el 2% y el -10%: planificación de políticas de incentivo a las ventas.\n",
        "Para bonificaciones inferiores al -10%: recorte de gastos."
      ],
      "metadata": {
        "id": "y64VdJ6qeFAY"
      }
    },
    {
      "cell_type": "markdown",
      "source": [
        "Vamos practicar el uso de estructuras de repetición como el \"while\" y el \"for\" a partir de algunas actividades. Ahora que estamos avanzando en el contenido, podemos hacer los desafíos más interesantes. ¡Para ello, trabajaremos en proyectos de código!\n",
        "\n",
        "Comencemos resolviendo algunos problemas para calentar y prepararnos para los proyectos.\n",
        "\n",
        "Entrenando la programación\n",
        "\n",
        "1 - Escribe un programa que solicite dos números enteros e imprima todos los números enteros entre ellos.\n",
        "\n",
        "2 - Escribe un programa para calcular cuántos días tomará que la colonia de una bacteria A supere o iguale a la colonia de una bacteria B, basado en tasas de crecimiento del 3% y 1.5%, respectivamente. Supón que la colonia A comienza con 4 elementos y B con 10.\n",
        "\n",
        "3 - Para procesar una cantidad de 15 datos de evaluaciones de usuarios de un servicio de la empresa, necesitamos verificar si las calificaciones son válidas. Por lo tanto, escribe un programa que recibirá calificaciones del 0 al 5 y verificará si son valores válidos. Si se ingresa una calificación superior a 5 o inferior a 0, se repetirá hasta que el usuario ingrese un valor válido.\n",
        "\n",
        "4 - Desarrolla un programa que lea un conjunto indefinido de temperaturas en grados Celsius y calcule su promedio. La lectura debe detenerse al ingresar el valor -273°C.\n",
        "\n",
        "5 - Escribe un programa que calcule el factorial de un número entero proporcionado por el usuario. Recuerda que el factorial de un número entero es el producto de ese número por todos sus antecesores hasta llegar al número 1. Por ejemplo, el factorial de 5 es 5 x 4 x 3 x 2 x 1 = 120.\n",
        "\n",
        "Momento de los proyectos\n",
        "\n",
        "6 - Escribe un programa que genere la tabla de multiplicar de un número entero del 1 al 10, según la elección del usuario. Como ejemplo, para el número 2, la tabla de multiplicar debe mostrarse en el siguiente formato:"
      ],
      "metadata": {
        "id": "Qp1id1k5s8Q_"
      }
    },
    {
      "cell_type": "code",
      "source": [
        "Tabla de multiplicar del 2:\n",
        "2 x 1 = 2\n",
        "2 x 2 = 4\n",
        "[...]\n",
        "2 x 10 = 20"
      ],
      "metadata": {
        "id": "MfUPZZa6tE88"
      },
      "execution_count": null,
      "outputs": []
    },
    {
      "cell_type": "markdown",
      "source": [
        "7 - Los números primos tienen diversas aplicaciones en Ciencia de Datos, como en criptografía y seguridad. Un número primo es aquel que es divisible solo por sí mismo y por 1. Por lo tanto, crea un programa que solicite un número entero y determine si es un número primo o no.\n",
        "\n",
        "8 - Vamos a comprender la distribución de edades de los pensionistas de una empresa de seguros. Escribe un programa que lea las edades de una cantidad no informada de clientes y muestre la distribución en los intervalos [0-25], [26-50], [51-75] y [76-100]. La entrada de datos se detendrá al ingresar un número negativo.\n",
        "\n",
        "9 - En una elección para la gerencia de una empresa con 20 empleados, hay cuatro candidatos. Escribe un programa que calcule al ganador de la elección. La votación se realizó de la siguiente manera:\n",
        "\n",
        "Cada empleado votó por uno de los cuatro candidatos (representados por los números 1, 2, 3 y 4).\n",
        "\n",
        "También se contaron los votos nulos (representados por el número 5) y los votos en blanco (representados por el número 6).\n",
        "\n",
        "Al final de la votación, el programa debe mostrar el número total de votos para cada candidato, los votos nulos y los votos en blanco. Además, debe calcular y mostrar el porcentaje de votos nulos con respecto al total de votos y el porcentaje de votos en blanco con respecto al total de votos."
      ],
      "metadata": {
        "id": "RTtExw_itGr8"
      }
    },
    {
      "cell_type": "markdown",
      "source": [
        "Ejercicios"
      ],
      "metadata": {
        "id": "TntNCHMVM1_5"
      }
    },
    {
      "cell_type": "markdown",
      "source": [
        "Vamos practicar el uso de estructuras de datos, como listas y diccionarios, a través de algunas actividades. Ahora que estamos avanzando en el contenido, podemos hacer los desafíos más interesantes. ¡Para ello, trabajaremos con proyectos de código!\n",
        "\n",
        "Primero, resolveremos algunos problemas para calentar y prepararnos para los proyectos.\n",
        "\n",
        "Entrenando la programación\n",
        "\n",
        "1 - Crea un programa que tenga la siguiente lista con los gastos de una empresa de papel [2172.54, 3701.35, 3518.09, 3456.61, 3249.38, 2840.82, 3891.45, 3075.26, 2317.64, 3219.08]. Con estos valores, crea un programa que calcule el promedio de gastos. Sugerencia: usa las funciones integradas sum() y len().\n",
        "\n",
        "2 - Con los mismos datos de la pregunta anterior, determina cuántas compras se realizaron por encima de 3000 reales y calcula el porcentaje con respecto al total de compras.\n",
        "\n",
        "3 - Crea un código que recoja en una lista 5 números enteros aleatorios e imprima la lista. Ejemplo: [1, 4, 7, 2, 4].\n",
        "\n",
        "4 - Recoge nuevamente 5 números enteros e imprime la lista en orden inverso al enviado.\n",
        "\n",
        "5 - Crea un programa que, al ingresar un número cualquiera, genere una lista que contenga todos los números primos entre 1 y el número ingresado.\n",
        "\n",
        "6 - Escribe un programa que pida una fecha, especificando el día, mes y año, y determine si es válida para su análisis.\n",
        "\n",
        "Momento para los proyectos\n",
        "\n",
        "7 - Para un estudio sobre la multiplicación de bacterias en una colonia, se recopiló el número de bacterias multiplicadas por día y se puede observar a continuación: [1.2, 2.1, 3.3, 5.0, 7.8, 11.3, 16.6, 25.1, 37.8, 56.9]. Con estos valores, crea un código que genere una lista que contenga el porcentaje de crecimiento de bacterias por día, comparando el número de bacterias en cada día con el número de bacterias del día anterior. Sugerencia: para calcular el porcentaje de crecimiento, utiliza la siguiente ecuación: 100 * (muestra_actual - muestra_anterior) / muestra_anterior.\n",
        "\n",
        "8 - Para una selección de productos alimenticios, debemos separar el conjunto de IDs proporcionados por números enteros, sabiendo que los productos con ID par son dulces y los que tienen ID impar son amargos. Crea un código que recoja 10 IDs. Luego, calcula y muestra la cantidad de productos dulces y amargos.\n",
        "\n",
        "9 - Desarrolla un programa que informe la puntuación de un estudiante de acuerdo con sus respuestas. Debe pedir la respuesta del estudiante para cada pregunta y verificar si la respuesta coincide con el resultado. Cada pregunta vale un punto y hay opciones A, B, C o D."
      ],
      "metadata": {
        "id": "hCgCc7lVM7_U"
      }
    },
    {
      "cell_type": "code",
      "source": [
        "Resultado del examen:\n",
        "01 - D\n",
        "02 - A\n",
        "03 - C\n",
        "04 - B\n",
        "05 - A\n",
        "06 - D\n",
        "07 - C\n",
        "08 - C\n",
        "09 - A\n",
        "10 - B"
      ],
      "metadata": {
        "id": "s-03cIYDM9C9"
      },
      "execution_count": null,
      "outputs": []
    },
    {
      "cell_type": "markdown",
      "source": [
        "10 - Un instituto de meteorología desea realizar un estudio de la temperatura media de cada mes del año. Para ello, debes crear un código que recoja y almacene esas temperaturas medias en una lista. Luego, calcula el promedio anual de las temperaturas y muestra todas las temperaturas por encima del promedio anual y en qué mes ocurrieron, mostrando los meses por su nombre (Enero, Febrero, etc.).\n",
        "\n",
        "11 - Una empresa de comercio electrónico está interesada en analizar las ventas de sus productos. Los datos de ventas se han almacenado en un diccionario:"
      ],
      "metadata": {
        "id": "sVSblsLbM_SQ"
      }
    },
    {
      "cell_type": "code",
      "source": [
        "{'Producto A': 300, 'Producto B': 80, 'Producto C': 60, 'Producto D': 200, 'Producto E': 250, 'Producto F': 30}"
      ],
      "metadata": {
        "id": "SWzu-GpBNIyW"
      },
      "execution_count": null,
      "outputs": []
    },
    {
      "cell_type": "markdown",
      "source": [
        "Escribe un código que calcule el total de ventas y el producto más vendido.\n",
        "\n",
        "12 - Se realizó una encuesta de mercado para decidir cuál diseño de marca infantil es más atractivo para los niños. Los votos de la encuesta se pueden ver a continuación:"
      ],
      "metadata": {
        "id": "f-yQfgxSNLQz"
      }
    },
    {
      "cell_type": "code",
      "source": [
        "Tabla de votos de la marca\n",
        "Diseño 1 - 1334 votos\n",
        "Diseño 2 - 982 votos\n",
        "Diseño 3 - 1751 votos\n",
        "Diseño 4 - 210 votos\n",
        "Diseño 5 - 1811 votos"
      ],
      "metadata": {
        "id": "TqPwYF2TNQ3y"
      },
      "execution_count": null,
      "outputs": []
    },
    {
      "cell_type": "markdown",
      "source": [
        "Adapta los datos proporcionados a una estructura de diccionario. A partir de ello, informa el diseño ganador y el porcentaje de votos recibidos.\n",
        "\n",
        "13 - Los empleados de un departamento de tu empresa recibirán una bonificación del 10% de su salario debido a un excelente rendimiento del equipo. El departamento de finanzas ha solicitado tu ayuda para verificar las consecuencias financieras de esta bonificación en los recursos. Se te ha enviado una lista con los salarios que recibirán la bonificación: [1172, 1644, 2617, 5130, 5532, 6341, 6650, 7238, 7685, 7782, 7903]. La bonificación de cada empleado no puede ser inferior a 200. En el código, convierte cada uno de los salarios en claves de un diccionario y la bonificación de cada salario en el valor correspondiente. Luego, informa el gasto total en bonificaciones, cuántos empleados recibieron la bonificación mínima y cuál fue el valor más alto de la bonificación proporcionada.\n",
        "\n",
        "14 - Un equipo de científicos de datos está estudiando la diversidad biológica en un bosque. El equipo recopiló información sobre el número de especies de plantas y animales en cada área del bosque y almacenó estos datos en un diccionario. En él, la clave describe el área de los datos y los valores en las listas corresponden a las especies de plantas y animales en esas áreas, respectivamente."
      ],
      "metadata": {
        "id": "lsd7VAw1NS5S"
      }
    },
    {
      "cell_type": "code",
      "source": [
        "{'Área Norte': [2819, 7236], 'Área Leste': [1440, 9492], 'Área Sul': [5969, 7496], 'Área Oeste': [14446, 49688], 'Área Centro': [22558, 45148]}"
      ],
      "metadata": {
        "id": "-3SrAJeTNaWV"
      },
      "execution_count": null,
      "outputs": []
    },
    {
      "cell_type": "markdown",
      "source": [
        "Escribe un código para calcular el promedio de especies por área e identificar el área con la mayor diversidad biológica. Sugerencia: utiliza las funciones incorporadas sum() y len().\n",
        "\n",
        "15 - El departamento de Recursos Humanos de tu empresa te pidió ayuda para analizar las edades de los colaboradores de 4 sectores de la empresa. Para ello, te proporcionaron los siguientes datos:"
      ],
      "metadata": {
        "id": "BXvcmKN-Nb2q"
      }
    },
    {
      "cell_type": "code",
      "source": [
        "{'Setor A': [22, 26, 30, 30, 35, 38, 40, 56, 57, 65],\n",
        " 'Setor B': [22, 24, 26, 33, 41, 49, 50, 54, 60, 64],\n",
        " 'Setor C': [23, 26, 26, 29, 34, 35, 36, 41, 52, 56],\n",
        " 'Setor D': [19, 20, 25, 27, 34, 39, 42, 44, 50, 65]}"
      ],
      "metadata": {
        "id": "SvKfZSWUNj_z"
      },
      "execution_count": null,
      "outputs": []
    },
    {
      "cell_type": "markdown",
      "source": [
        "Dado que cada sector tiene 10 colaboradores, construye un código que calcule la media de edad de cada sector, la edad media general entre todos los sectores y cuántas personas están por encima de la edad media general."
      ],
      "metadata": {
        "id": "G_QRHgHnNkt6"
      }
    }
  ]
}